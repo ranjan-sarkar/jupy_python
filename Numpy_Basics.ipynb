{
 "cells": [
  {
   "cell_type": "markdown",
   "source": [
    "# Numpy Basics"
   ],
   "metadata": {}
  },
  {
   "cell_type": "code",
   "execution_count": 3,
   "source": [
    "#python lists are heterogeneous\n",
    "L3 = [True, \"2\", 3.0, 4]\n",
    "[type(item) for item in L3]"
   ],
   "outputs": [
    {
     "output_type": "execute_result",
     "data": {
      "text/plain": [
       "[bool, str, float, int]"
      ]
     },
     "metadata": {},
     "execution_count": 3
    }
   ],
   "metadata": {}
  },
  {
   "cell_type": "code",
   "execution_count": 4,
   "source": [
    "#python arrays little better - provides more efficient storage but not efficient operations on them\n",
    "import array\n",
    "L = list(range(10))\n",
    "A = array.array('i', L)\n",
    "print(A)"
   ],
   "outputs": [
    {
     "output_type": "stream",
     "name": "stdout",
     "text": [
      "array('i', [0, 1, 2, 3, 4, 5, 6, 7, 8, 9])\n"
     ]
    }
   ],
   "metadata": {}
  },
  {
   "cell_type": "code",
   "execution_count": null,
   "source": [
    "#numpy arrays provide efficient array based storage as well as efficient operations - ufuncs, etc.\n",
    "import numpy as np\n",
    "my_arr = np.arange(1000000)\n",
    "my_list = list(range(1000000))\n",
    "my_list"
   ],
   "outputs": [],
   "metadata": {
    "scrolled": true
   }
  },
  {
   "cell_type": "code",
   "execution_count": 6,
   "source": [
    "#BAD---->>>>>using list.append\r\n",
    "import time\r\n",
    "start = time.time()\r\n",
    "for _ in range(10):\r\n",
    "    my_list2=[]\r\n",
    "    for e in my_list:\r\n",
    "        my_list2.append(e*2)\r\n",
    "elapsed_time = (time.time() - start)\r\n",
    "#my_list2\r\n",
    "elapsed_time"
   ],
   "outputs": [
    {
     "output_type": "execute_result",
     "data": {
      "text/plain": [
       "1.7114262580871582"
      ]
     },
     "metadata": {},
     "execution_count": 6
    }
   ],
   "metadata": {}
  },
  {
   "cell_type": "code",
   "execution_count": 7,
   "source": [
    "#BETTER----->>>>>>using list comprehension\r\n",
    "import time\r\n",
    "start = time.time()\r\n",
    "for _ in range(10): my_list2 = [x * 2 for x in my_list]\r\n",
    "elapsed_time = (time.time() - start)\r\n",
    "#my_list2\r\n",
    "elapsed_time"
   ],
   "outputs": [
    {
     "output_type": "execute_result",
     "data": {
      "text/plain": [
       "0.9493992328643799"
      ]
     },
     "metadata": {},
     "execution_count": 7
    }
   ],
   "metadata": {}
  },
  {
   "cell_type": "code",
   "execution_count": 8,
   "source": [
    "#BEST--------->>>>>>>>>>>>>>using numpy array\r\n",
    "import time\r\n",
    "start = time.time()\r\n",
    "for _ in range(10): my_arr2 = my_arr * 2\r\n",
    "elapsed_time = (time.time() - start)\r\n",
    "#my_arr2\r\n",
    "elapsed_time"
   ],
   "outputs": [
    {
     "output_type": "execute_result",
     "data": {
      "text/plain": [
       "0.04702353477478027"
      ]
     },
     "metadata": {},
     "execution_count": 8
    }
   ],
   "metadata": {}
  },
  {
   "cell_type": "code",
   "execution_count": 9,
   "source": [
    "##########################################\r\n",
    "import numpy as np\r\n",
    "arr = np.array([1, 4, 2, 5, 3]); arr\r\n",
    "\r\n",
    "#list to ndarray\r\n",
    "data1 = [6, 7.5, 8, 0, 1]\r\n",
    "arr1 = np.array(data1); arr1\r\n",
    "print(arr1.itemsize)   # by default it will take float\r\n",
    "print(type(arr1[0]))\r\n",
    "\r\n",
    "data1 = [6, 7.5, 8, 0, 1]\r\n",
    "arr1 = np.array(data1,dtype= int); arr1\r\n",
    "print(type(arr1[0]))\r\n",
    "print(arr1.itemsize)\r\n",
    "\r\n",
    "data1 = [6, 7.5, 8, 0, 1]\r\n",
    "arr1 = np.array(data1,dtype='float64')\r\n",
    "print(arr1)\r\n",
    "print(arr1.itemsize)"
   ],
   "outputs": [
    {
     "output_type": "stream",
     "name": "stdout",
     "text": [
      "8\n",
      "<class 'numpy.float64'>\n",
      "<class 'numpy.int32'>\n",
      "4\n",
      "[6.  7.5 8.  0.  1. ]\n",
      "8\n"
     ]
    }
   ],
   "metadata": {}
  },
  {
   "cell_type": "markdown",
   "source": [
    "# ARRAY OPERATIONS"
   ],
   "metadata": {}
  },
  {
   "cell_type": "code",
   "execution_count": 10,
   "source": [
    "#nested list to multidimensional ndarray\r\n",
    "data2 = [[1, 2, 3, 4], [5, 6, 7, 8]]\r\n",
    "arr2 = np.array(data2)\r\n",
    "print(arr2)\r\n",
    "\r\n",
    "data = np.random.randn(2, 3)\r\n",
    "print(data)\r\n",
    "print(data.shape)\r\n",
    "print(data.size)  # total no. of elements in the array\r\n",
    "\r\n",
    "print(data.ndim)  # how many dimensions are there in the array\r\n",
    "print(data.dtype)  # data type\r\n",
    "print(data.itemsize)    # how much space is needed for each item in the array\r\n",
    "print(data.nbytes)   # size * itemsize"
   ],
   "outputs": [
    {
     "output_type": "stream",
     "name": "stdout",
     "text": [
      "[[1 2 3 4]\n",
      " [5 6 7 8]]\n",
      "[[-1.12401711  0.51468751  0.187125  ]\n",
      " [-1.70308775 -1.0357539   0.06127474]]\n",
      "(2, 3)\n",
      "6\n",
      "2\n",
      "float64\n",
      "8\n",
      "48\n"
     ]
    }
   ],
   "metadata": {}
  },
  {
   "cell_type": "code",
   "execution_count": 11,
   "source": [
    "import numpy as np\r\n",
    "\r\n",
    "print(np.arange(3,10))\r\n",
    "print(np.arange(2, 10, dtype=float))\r\n",
    "\r\n",
    "#overflow and trucation errors\r\n",
    "print(np.power(100, 8, dtype=np.int64))\r\n",
    "print(np.power(100, 8, dtype=np.int32))\r\n",
    "print(np.power(100, 100, dtype=np.int64))\r\n",
    "print(np.power(100, 100, dtype=np.float64))\r\n",
    "#truncation happens here - CAREFUL!!!\r\n",
    "arr11 = np.array([1.3,2.5], dtype=np.int16)\r\n",
    "print(arr11)\r\n",
    "\r\n",
    "#use of standard numpy functions to create arrays\r\n",
    "print(np.zeros(10))\r\n",
    "print(np.zeros((3, 6)))\r\n",
    "\r\n",
    "#uninitialized garbage values\r\n",
    "print(np.empty((2, 3, 2)))\r\n",
    "\r\n",
    "#np.arange(15)\r\n",
    "print(np.arange(3,10,2))\r\n",
    "print(np.arange(3,11,2))  # it's a open interval (11 is not included)\r\n",
    "print(np.arange(3,10,2,dtype='float'))\r\n",
    "print(np.arange(3,10,2,dtype= np.float64))\r\n",
    "\r\n",
    "\r\n",
    "arr14 = np.eye(3); print(arr14)\r\n",
    "arr22 = np.linspace(3,100,12); print(arr22)\r\n",
    "np.eye(3)"
   ],
   "outputs": [
    {
     "output_type": "stream",
     "name": "stdout",
     "text": [
      "[3 4 5 6 7 8 9]\n",
      "[2. 3. 4. 5. 6. 7. 8. 9.]\n",
      "10000000000000000\n",
      "1874919424\n",
      "0\n",
      "1e+200\n",
      "[1 2]\n",
      "[0. 0. 0. 0. 0. 0. 0. 0. 0. 0.]\n",
      "[[0. 0. 0. 0. 0. 0.]\n",
      " [0. 0. 0. 0. 0. 0.]\n",
      " [0. 0. 0. 0. 0. 0.]]\n",
      "[[[4.45057637e-308 1.78021527e-306]\n",
      "  [8.45549797e-307 1.37962049e-306]\n",
      "  [1.11260619e-306 1.78010255e-306]]\n",
      "\n",
      " [[1.42409073e-306 4.45058910e-308]\n",
      "  [8.45596650e-307 9.34602321e-307]\n",
      "  [4.94065646e-322 2.27053550e-312]]]\n",
      "[3 5 7 9]\n",
      "[3 5 7 9]\n",
      "[3. 5. 7. 9.]\n",
      "[3. 5. 7. 9.]\n",
      "[[1. 0. 0.]\n",
      " [0. 1. 0.]\n",
      " [0. 0. 1.]]\n",
      "[  3.          11.81818182  20.63636364  29.45454545  38.27272727\n",
      "  47.09090909  55.90909091  64.72727273  73.54545455  82.36363636\n",
      "  91.18181818 100.        ]\n"
     ]
    },
    {
     "output_type": "execute_result",
     "data": {
      "text/plain": [
       "array([[1., 0., 0.],\n",
       "       [0., 1., 0.],\n",
       "       [0., 0., 1.]])"
      ]
     },
     "metadata": {},
     "execution_count": 11
    }
   ],
   "metadata": {}
  },
  {
   "cell_type": "code",
   "execution_count": 12,
   "source": [
    "#indexing of arrays - single index, slicing, boolean indexing, fancy indexing, multi-dimensional subarrays\r\n",
    "arr12 = np.array([[2,3,4],[3,5,3]]); arr12\r\n",
    "\r\n",
    "#for multidimensional, dimensions are separated by commas\r\n",
    "print(arr12[1][1])\r\n",
    "print(arr12[1,1])\r\n",
    "print(arr12[1,1:])\r\n",
    "print(arr12[:1, :2])\r\n",
    "print(arr12[:,:2])\r\n",
    "print(arr12[:1,:])    #alternatively arr12[:1]\r\n",
    "print(arr12[:1])\r\n",
    "data1 = [6, 7.5, 8, 0, 1]; arr1 = np.array(data1)\r\n",
    "print(arr1[2:-1])\r\n",
    "arr16 = arr1[2:4]; print(arr16)"
   ],
   "outputs": [
    {
     "output_type": "stream",
     "name": "stdout",
     "text": [
      "5\n",
      "5\n",
      "[5 3]\n",
      "[[2 3]]\n",
      "[[2 3]\n",
      " [3 5]]\n",
      "[[2 3 4]]\n",
      "[[2 3 4]]\n",
      "[8. 0.]\n",
      "[8. 0.]\n"
     ]
    }
   ],
   "metadata": {}
  },
  {
   "cell_type": "code",
   "execution_count": 13,
   "source": [
    "#array indexing is a no copy operation\r\n",
    "arr16 = arr1[2:4]\r\n",
    "print(arr16)\r\n",
    "\r\n",
    "arr16[0]=100\r\n",
    "print(arr16, arr1)"
   ],
   "outputs": [
    {
     "output_type": "stream",
     "name": "stdout",
     "text": [
      "[8. 0.]\n",
      "[100.   0.] [  6.    7.5 100.    0.    1. ]\n"
     ]
    }
   ],
   "metadata": {
    "scrolled": true
   }
  },
  {
   "cell_type": "code",
   "execution_count": 14,
   "source": [
    "#getting a copy\r\n",
    "arr16 = arr1[2:4].copy(); print(arr16)\r\n",
    "arr16[0]=1000; print(arr16)\r\n",
    "print(arr1)"
   ],
   "outputs": [
    {
     "output_type": "stream",
     "name": "stdout",
     "text": [
      "[100.   0.]\n",
      "[1000.    0.]\n",
      "[  6.    7.5 100.    0.    1. ]\n"
     ]
    }
   ],
   "metadata": {}
  },
  {
   "cell_type": "code",
   "execution_count": 15,
   "source": [
    "#array reshaping\r\n",
    "#row major arrangement (C-style)\r\n",
    "arr22 = np.linspace(3,100,12)\r\n",
    "print(arr22)\r\n",
    "\r\n",
    "arr22_reshaped = arr22.reshape(6,2)\r\n",
    "print(arr22_reshaped)"
   ],
   "outputs": [
    {
     "output_type": "stream",
     "name": "stdout",
     "text": [
      "[  3.          11.81818182  20.63636364  29.45454545  38.27272727\n",
      "  47.09090909  55.90909091  64.72727273  73.54545455  82.36363636\n",
      "  91.18181818 100.        ]\n",
      "[[  3.          11.81818182]\n",
      " [ 20.63636364  29.45454545]\n",
      " [ 38.27272727  47.09090909]\n",
      " [ 55.90909091  64.72727273]\n",
      " [ 73.54545455  82.36363636]\n",
      " [ 91.18181818 100.        ]]\n"
     ]
    }
   ],
   "metadata": {}
  },
  {
   "cell_type": "code",
   "execution_count": 16,
   "source": [
    "#column major arrangement (Fortran style)\r\n",
    "arr22_reshaped = arr22.reshape(6,2,order='F') # it will refill the 6*2 array by reverse way\r\n",
    "print(arr22_reshaped)\r\n",
    "\r\n",
    "arr22_reshaped[1:4:2,:]"
   ],
   "outputs": [
    {
     "output_type": "stream",
     "name": "stdout",
     "text": [
      "[[  3.          55.90909091]\n",
      " [ 11.81818182  64.72727273]\n",
      " [ 20.63636364  73.54545455]\n",
      " [ 29.45454545  82.36363636]\n",
      " [ 38.27272727  91.18181818]\n",
      " [ 47.09090909 100.        ]]\n"
     ]
    },
    {
     "output_type": "execute_result",
     "data": {
      "text/plain": [
       "array([[11.81818182, 64.72727273],\n",
       "       [29.45454545, 82.36363636]])"
      ]
     },
     "metadata": {},
     "execution_count": 16
    }
   ],
   "metadata": {}
  },
  {
   "cell_type": "code",
   "execution_count": 17,
   "source": [
    "x = np.array([1, 2, 3])\r\n",
    "y = x.reshape((1, 3)); \r\n",
    "print(y)\r\n",
    "print(y.shape)\r\n",
    "print(x.shape)\r\n",
    "\r\n",
    "y = x[np.newaxis, :]\r\n",
    "print(y)\r\n",
    "print(y.shape)\r\n",
    "\r\n",
    "y = x[:, np.newaxis]\r\n",
    "print(y)\r\n",
    "print(y.shape)"
   ],
   "outputs": [
    {
     "output_type": "stream",
     "name": "stdout",
     "text": [
      "[[1 2 3]]\n",
      "(1, 3)\n",
      "(3,)\n",
      "[[1 2 3]]\n",
      "(1, 3)\n",
      "[[1]\n",
      " [2]\n",
      " [3]]\n",
      "(3, 1)\n"
     ]
    }
   ],
   "metadata": {}
  },
  {
   "cell_type": "code",
   "execution_count": 18,
   "source": [
    "#array concatenation & splitting\r\n",
    "x = np.array([1, 2, 3])\r\n",
    "y = np.array([3, 2, 1])\r\n",
    "\r\n",
    "print(np.concatenate([x, y],axis=0))\r\n",
    "\r\n",
    "print(np.concatenate([x[:,np.newaxis],y[:,np.newaxis]]))\r\n",
    "\r\n",
    "print(np.concatenate([x[:,np.newaxis],y[:,np.newaxis]],axis=1))\r\n",
    "print(np.concatenate([x[np.newaxis,:],y[np.newaxis,:]],axis=0))\r\n",
    "\r\n",
    "print(np.hstack([x,y]))  # h - horizontally\r\n",
    "print(np.vstack([x,y]))  # v - vertically"
   ],
   "outputs": [
    {
     "output_type": "stream",
     "name": "stdout",
     "text": [
      "[1 2 3 3 2 1]\n",
      "[[1]\n",
      " [2]\n",
      " [3]\n",
      " [3]\n",
      " [2]\n",
      " [1]]\n",
      "[[1 3]\n",
      " [2 2]\n",
      " [3 1]]\n",
      "[[1 2 3]\n",
      " [3 2 1]]\n",
      "[1 2 3 3 2 1]\n",
      "[[1 2 3]\n",
      " [3 2 1]]\n"
     ]
    }
   ],
   "metadata": {}
  },
  {
   "cell_type": "code",
   "execution_count": 19,
   "source": [
    "x = [1,2,3,99,99,3,2,1]\r\n",
    "x1, x2, x3, x4 = np.split(x, [2, 3, 5])\r\n",
    "print(x1, x2, x3, x4) #also explore np.hsplit, np.vsplit"
   ],
   "outputs": [
    {
     "output_type": "stream",
     "name": "stdout",
     "text": [
      "[1 2] [3] [99 99] [3 2 1]\n"
     ]
    }
   ],
   "metadata": {}
  },
  {
   "cell_type": "code",
   "execution_count": 20,
   "source": [
    "#boolean masks and boolean indexing\r\n",
    "arr14 = np.array([[1, 2, 3], [4, 5, 6], [7, 8, 9]])\r\n",
    "print(arr14 % 2 == 0)\r\n",
    "print(arr14[arr14%2==0])\r\n",
    "\r\n",
    "arr15 = np.array([True,False,True]);\r\n",
    "print(arr15)\r\n",
    "print(arr14[arr15])"
   ],
   "outputs": [
    {
     "output_type": "stream",
     "name": "stdout",
     "text": [
      "[[False  True False]\n",
      " [ True False  True]\n",
      " [False  True False]]\n",
      "[2 4 6 8]\n",
      "[ True False  True]\n",
      "[[1 2 3]\n",
      " [7 8 9]]\n"
     ]
    }
   ],
   "metadata": {}
  },
  {
   "cell_type": "code",
   "execution_count": 21,
   "source": [
    "arr16 = np.array([[True,False,True],[True, True,False],[False,False,True]])\r\n",
    "print(arr14[arr16])\r\n",
    "\r\n",
    "print(arr14[~arr14%2 == 0])\r\n",
    "print(arr14[(arr14%2 == 0) | (arr14%9 == 0)])  # OR"
   ],
   "outputs": [
    {
     "output_type": "stream",
     "name": "stdout",
     "text": [
      "[1 3 4 5 9]\n",
      "[1 3 5 7 9]\n",
      "[2 4 6 8 9]\n"
     ]
    }
   ],
   "metadata": {}
  },
  {
   "cell_type": "markdown",
   "source": [
    "## fancy indexing (index arrays using lists)"
   ],
   "metadata": {}
  },
  {
   "cell_type": "code",
   "execution_count": 22,
   "source": [
    "# fancy indexing results into COPYING\r\n",
    "x = np.arange(10,1,-1); print(x)\r\n",
    "print(x[[3, 3, 1, 8]])\r\n",
    "x[[3,3,-3,8]]\r\n",
    "\r\n",
    "arr = np.empty((8, 4))\r\n",
    "for i in range(8):\r\n",
    "    arr[i] = i\r\n",
    "arr\r\n",
    "#pass the array index as a list\r\n",
    "arr[[4, 3, 0, 6]]"
   ],
   "outputs": [
    {
     "output_type": "stream",
     "name": "stdout",
     "text": [
      "[10  9  8  7  6  5  4  3  2]\n",
      "[7 7 9 2]\n"
     ]
    },
    {
     "output_type": "execute_result",
     "data": {
      "text/plain": [
       "array([[4., 4., 4., 4.],\n",
       "       [3., 3., 3., 3.],\n",
       "       [0., 0., 0., 0.],\n",
       "       [6., 6., 6., 6.]])"
      ]
     },
     "metadata": {},
     "execution_count": 22
    }
   ],
   "metadata": {}
  },
  {
   "cell_type": "code",
   "execution_count": 23,
   "source": [
    "arr = np.arange(32).reshape((8, 4))\r\n",
    "print(arr)\r\n",
    "#here the 1st, 5th, 7th and 2nd rows' 0th, 3rd, 1st and 2nd elements are selected respectively. \r\n",
    "#The result is an one-dimensional array\r\n",
    "print(arr[[1, 5, 7, 2], [0, 3, 1, 2]])\r\n",
    "arr[[1, 5, 7, 2], [0, 3, 1, 2]] = 0\r\n",
    "print(arr)"
   ],
   "outputs": [
    {
     "output_type": "stream",
     "name": "stdout",
     "text": [
      "[[ 0  1  2  3]\n",
      " [ 4  5  6  7]\n",
      " [ 8  9 10 11]\n",
      " [12 13 14 15]\n",
      " [16 17 18 19]\n",
      " [20 21 22 23]\n",
      " [24 25 26 27]\n",
      " [28 29 30 31]]\n",
      "[ 4 23 29 10]\n",
      "[[ 0  1  2  3]\n",
      " [ 0  5  6  7]\n",
      " [ 8  9  0 11]\n",
      " [12 13 14 15]\n",
      " [16 17 18 19]\n",
      " [20 21 22  0]\n",
      " [24 25 26 27]\n",
      " [28  0 30 31]]\n"
     ]
    }
   ],
   "metadata": {}
  },
  {
   "cell_type": "code",
   "execution_count": 24,
   "source": [
    "#important note the differences and similarities\r\n",
    "print(arr[1,2])\r\n",
    "print(arr[(1,2)]) #same as previous\r\n",
    "print(arr[[1,2]]) #not same as previous but example of fancy indexing"
   ],
   "outputs": [
    {
     "output_type": "stream",
     "name": "stdout",
     "text": [
      "6\n",
      "6\n",
      "[[ 0  5  6  7]\n",
      " [ 8  9  0 11]]\n"
     ]
    }
   ],
   "metadata": {}
  },
  {
   "cell_type": "code",
   "execution_count": 25,
   "source": [
    "#UFUNCS\r\n",
    "arr12 = np.array([[2,3,4],[3,5,3]])\r\n",
    "print(arr12)\r\n",
    "print(arr12 + arr12)\r\n",
    "print(arr12 * arr12)"
   ],
   "outputs": [
    {
     "output_type": "stream",
     "name": "stdout",
     "text": [
      "[[2 3 4]\n",
      " [3 5 3]]\n",
      "[[ 4  6  8]\n",
      " [ 6 10  6]]\n",
      "[[ 4  9 16]\n",
      " [ 9 25  9]]\n"
     ]
    }
   ],
   "metadata": {}
  },
  {
   "cell_type": "code",
   "execution_count": 26,
   "source": [
    "print(arr12 * 3)\r\n",
    "print(arr12 ** 2)"
   ],
   "outputs": [
    {
     "output_type": "stream",
     "name": "stdout",
     "text": [
      "[[ 6  9 12]\n",
      " [ 9 15  9]]\n",
      "[[ 4  9 16]\n",
      " [ 9 25  9]]\n"
     ]
    }
   ],
   "metadata": {}
  },
  {
   "cell_type": "code",
   "execution_count": 27,
   "source": [
    "arr14 = np.eye(3)\r\n",
    "print(arr14)\r\n",
    "\r\n",
    "print(arr14 >= arr14 * 2)"
   ],
   "outputs": [
    {
     "output_type": "stream",
     "name": "stdout",
     "text": [
      "[[1. 0. 0.]\n",
      " [0. 1. 0.]\n",
      " [0. 0. 1.]]\n",
      "[[False  True  True]\n",
      " [ True False  True]\n",
      " [ True  True False]]\n"
     ]
    }
   ],
   "metadata": {}
  },
  {
   "cell_type": "code",
   "execution_count": 28,
   "source": [
    "arr15 = np.array([[1,3,4],[3,4,3]])\r\n",
    "arr12<=arr15\r\n",
    "arr16 = np.arange(15).reshape(3,5); arr16\r\n",
    "print(np.sqrt(arr16))"
   ],
   "outputs": [
    {
     "output_type": "stream",
     "name": "stdout",
     "text": [
      "[[0.         1.         1.41421356 1.73205081 2.        ]\n",
      " [2.23606798 2.44948974 2.64575131 2.82842712 3.        ]\n",
      " [3.16227766 3.31662479 3.46410162 3.60555128 3.74165739]]\n"
     ]
    }
   ],
   "metadata": {}
  },
  {
   "cell_type": "code",
   "execution_count": 29,
   "source": [
    "x = np.random.randn(8)\r\n",
    "print(x)\r\n",
    "y = np.random.randn(8)\r\n",
    "print(y)\r\n",
    "print(np.maximum(x, y))"
   ],
   "outputs": [
    {
     "output_type": "stream",
     "name": "stdout",
     "text": [
      "[-0.26972369 -0.51104192 -0.42465162 -1.46051937  0.06888912  1.31487283\n",
      "  1.65121991 -0.79512468]\n",
      "[-1.17118614  0.42125501  0.49123434  0.25786209  0.80336682 -1.27192152\n",
      " -0.03432879  1.14231682]\n",
      "[-0.26972369  0.42125501  0.49123434  0.25786209  0.80336682  1.31487283\n",
      "  1.65121991  1.14231682]\n"
     ]
    }
   ],
   "metadata": {}
  },
  {
   "cell_type": "code",
   "execution_count": 30,
   "source": [
    "np.add(x,y)"
   ],
   "outputs": [
    {
     "output_type": "execute_result",
     "data": {
      "text/plain": [
       "array([-1.44090983, -0.08978691,  0.06658271, -1.20265728,  0.87225594,\n",
       "        0.04295132,  1.61689112,  0.34719215])"
      ]
     },
     "metadata": {},
     "execution_count": 30
    }
   ],
   "metadata": {}
  },
  {
   "cell_type": "code",
   "execution_count": 31,
   "source": [
    "arr17 = np.random.randn(7) * 5\r\n",
    "print(arr17)"
   ],
   "outputs": [
    {
     "output_type": "stream",
     "name": "stdout",
     "text": [
      "[ -3.71554609   0.09098928   0.30181162   0.69712672   4.97085604\n",
      " -10.75720655  -2.60292144]\n"
     ]
    }
   ],
   "metadata": {}
  },
  {
   "cell_type": "code",
   "execution_count": 32,
   "source": [
    "remainder, whole_part = np.modf(arr17)\r\n",
    "print(remainder)\r\n",
    "print(whole_part)"
   ],
   "outputs": [
    {
     "output_type": "stream",
     "name": "stdout",
     "text": [
      "[-0.71554609  0.09098928  0.30181162  0.69712672  0.97085604 -0.75720655\n",
      " -0.60292144]\n",
      "[ -3.   0.   0.   0.   4. -10.  -2.]\n"
     ]
    }
   ],
   "metadata": {}
  },
  {
   "cell_type": "code",
   "execution_count": 35,
   "source": [
    "print(np.floor(arr17))\r\n",
    "print(np.ceil(arr17))"
   ],
   "outputs": [
    {
     "output_type": "stream",
     "name": "stdout",
     "text": [
      "[ -4.   0.   0.   0.   4. -11.  -3.]\n",
      "[ -3.   1.   1.   1.   5. -10.  -2.]\n"
     ]
    }
   ],
   "metadata": {}
  },
  {
   "cell_type": "code",
   "execution_count": 37,
   "source": [
    "# nan = not a number\r\n",
    "\r\n",
    "arr18 = np.array([np.nan,23,2.3])\r\n",
    "print(arr18)"
   ],
   "outputs": [
    {
     "output_type": "stream",
     "name": "stdout",
     "text": [
      "[ nan 23.   2.3]\n"
     ]
    }
   ],
   "metadata": {}
  },
  {
   "cell_type": "code",
   "execution_count": 40,
   "source": [
    "# checking if it is nan or inf (infinity)\r\n",
    "\r\n",
    "print(np.isnan(np.nan))\r\n",
    "print(np.isnan(np.inf))\r\n",
    "print(np.isinf(np.inf))\r\n",
    "print(np.isnan(arr18))\r\n",
    "print(np.array([1, 0])/0)"
   ],
   "outputs": [
    {
     "output_type": "stream",
     "name": "stdout",
     "text": [
      "True\n",
      "False\n",
      "True\n",
      "[ True False False]\n",
      "[inf nan]\n"
     ]
    },
    {
     "output_type": "stream",
     "name": "stderr",
     "text": [
      "C:\\Users\\hp\\AppData\\Local\\Temp/ipykernel_15660/917919486.py:5: RuntimeWarning: divide by zero encountered in true_divide\n",
      "  print(np.array([1, 0])/0)\n",
      "C:\\Users\\hp\\AppData\\Local\\Temp/ipykernel_15660/917919486.py:5: RuntimeWarning: invalid value encountered in true_divide\n",
      "  print(np.array([1, 0])/0)\n"
     ]
    }
   ],
   "metadata": {}
  },
  {
   "cell_type": "code",
   "execution_count": 49,
   "source": [
    "my_arr = np.array([[1, -1, 2]])\r\n",
    "\r\n",
    "print(np.dot(my_arr, my_arr.T)) # like matrix multiplication\r\n",
    "print(np.dot(my_arr.T, my_arr))\r\n",
    "print(np.log([-1, 1, 2, 3, 10]))\r\n",
    "print(np.mean(my_arr)) # alternatively arr12.mean()\r\n",
    "print(my_arr.sum())"
   ],
   "outputs": [
    {
     "output_type": "stream",
     "name": "stdout",
     "text": [
      "[[6]]\n",
      "[[ 1 -1  2]\n",
      " [-1  1 -2]\n",
      " [ 2 -2  4]]\n",
      "[       nan 0.         0.69314718 1.09861229 2.30258509]\n",
      "0.6666666666666666\n",
      "2\n"
     ]
    },
    {
     "output_type": "stream",
     "name": "stderr",
     "text": [
      "C:\\Users\\hp\\AppData\\Local\\Temp/ipykernel_15660/1922086375.py:5: RuntimeWarning: invalid value encountered in log\n",
      "  print(np.log([-1, 1, 2, 3, 10]))\n"
     ]
    }
   ],
   "metadata": {}
  },
  {
   "cell_type": "code",
   "execution_count": 65,
   "source": [
    "print(arr12)\r\n",
    "\r\n",
    "print(arr12.sum(axis=0))   # sum over axis = 0\r\n",
    "print(arr12.mean(axis=0))\r\n",
    "\r\n",
    "print(arr12.sum(axis=1))\r\n",
    "print(arr12.mean(axis=1))\r\n",
    "\r\n",
    "print(np.mean(arr12,axis=0))\r\n",
    "print(arr12.cumsum())"
   ],
   "outputs": [
    {
     "output_type": "stream",
     "name": "stdout",
     "text": [
      "[[2 3 4]\n",
      " [3 5 3]]\n",
      "[5 8 7]\n",
      "[2.5 4.  3.5]\n",
      "[ 9 11]\n",
      "[3.         3.66666667]\n",
      "[2.5 4.  3.5]\n",
      "[ 2  5  9 12 17 20]\n"
     ]
    }
   ],
   "metadata": {}
  },
  {
   "cell_type": "code",
   "execution_count": 68,
   "source": [
    "arr13 = np.array([[0, 1, 2], [3, 4, 5], [6, 7, 8]])\r\n",
    "#for each col\r\n",
    "print(arr13.sum(axis = 0))\r\n",
    "print(arr13.cumsum(axis=0))  # cumulative sum\r\n",
    "#for each row\r\n",
    "print(arr13.cumsum(axis=1))"
   ],
   "outputs": [
    {
     "output_type": "stream",
     "name": "stdout",
     "text": [
      "[ 9 12 15]\n",
      "[[ 0  1  2]\n",
      " [ 3  5  7]\n",
      " [ 9 12 15]]\n",
      "[[ 0  1  3]\n",
      " [ 3  7 12]\n",
      " [ 6 13 21]]\n"
     ]
    }
   ],
   "metadata": {}
  },
  {
   "cell_type": "code",
   "execution_count": 73,
   "source": [
    "#similarly we have std, var, min, max, argmin, argmax, cumprod\r\n",
    "arr14 = np.array([[0, 9, 1], [5, 3, 5]])\r\n",
    "\r\n",
    "print(arr14.min(axis = 0))\r\n",
    "print(arr14.argmin(axis = 0))\r\n",
    "\r\n",
    "print(arr14.min(axis = 1))\r\n",
    "print(arr14.argmin(axis=1))\r\n",
    "\r\n",
    "print(arr14.max(axis=1))\r\n",
    "print(arr14.argmax(axis=1))"
   ],
   "outputs": [
    {
     "output_type": "stream",
     "name": "stdout",
     "text": [
      "[0 3 1]\n",
      "[0 1 0]\n",
      "[0 3]\n",
      "[0 1]\n",
      "[9 5]\n",
      "[1 0]\n"
     ]
    }
   ],
   "metadata": {}
  },
  {
   "cell_type": "code",
   "execution_count": 78,
   "source": [
    "#boolean arrays\r\n",
    "arr15 = np.random.randn(10)\r\n",
    "print(arr15 > 0)\r\n",
    "print((arr15 > 0).sum()) #count of positive values as True has value 1 and False has 0\r\n",
    "\r\n",
    "print(np.where(arr15 > 0, 1,-1).sum())\r\n",
    "print((arr15 > 0).any())\r\n",
    "print((arr15 > 0).all())"
   ],
   "outputs": [
    {
     "output_type": "stream",
     "name": "stdout",
     "text": [
      "[False False False  True  True False  True  True  True  True]\n",
      "6\n",
      "2\n",
      "True\n",
      "False\n"
     ]
    }
   ],
   "metadata": {}
  },
  {
   "cell_type": "code",
   "execution_count": 80,
   "source": [
    "#sorting (with copy, w/o copy)\r\n",
    "arr14.sort(axis=1)\r\n",
    "#in place sorting: NO COPY made\r\n",
    "#similar to the sort method of python list (as against sorted() available for any python iterable which makes copy)\r\n",
    "print(arr14)   # arr14 has already been changed\r\n",
    "\r\n",
    "arr15 = np.array([[2,4,3],[3,2,1],[5,2,2]])\r\n",
    "print(arr15)\r\n",
    "\r\n",
    "#COPY made\r\n",
    "print(np.sort(arr15,axis=1))\r\n",
    "print(arr15)"
   ],
   "outputs": [
    {
     "output_type": "stream",
     "name": "stdout",
     "text": [
      "[[0 1 9]\n",
      " [3 5 5]]\n",
      "[[2 4 3]\n",
      " [3 2 1]\n",
      " [5 2 2]]\n",
      "[[2 3 4]\n",
      " [1 2 3]\n",
      " [2 2 5]]\n",
      "[[2 4 3]\n",
      " [3 2 1]\n",
      " [5 2 2]]\n"
     ]
    }
   ],
   "metadata": {}
  },
  {
   "cell_type": "code",
   "execution_count": 81,
   "source": [
    "####Broadcasting#####\r\n",
    "a = np.array([0, 1, 2])\r\n",
    "print(a)\r\n",
    "\r\n",
    "M = np.ones((3, 3))\r\n",
    "print(M)\r\n",
    "\r\n",
    "b = M+a\r\n",
    "print(b)\r\n",
    "\r\n",
    "print(a.shape)\r\n",
    "print(M.shape)\r\n",
    "print(b.shape)"
   ],
   "outputs": [
    {
     "output_type": "stream",
     "name": "stdout",
     "text": [
      "[0 1 2]\n",
      "[[1. 1. 1.]\n",
      " [1. 1. 1.]\n",
      " [1. 1. 1.]]\n",
      "[[1. 2. 3.]\n",
      " [1. 2. 3.]\n",
      " [1. 2. 3.]]\n",
      "(3,)\n",
      "(3, 3)\n",
      "(3, 3)\n"
     ]
    }
   ],
   "metadata": {}
  },
  {
   "cell_type": "code",
   "execution_count": 83,
   "source": [
    "#the broadcasting steps followed as below:\r\n",
    "d = a[np.newaxis,:] # Rule 1\r\n",
    "print(d)\r\n",
    "\r\n",
    "print(d.shape)\r\n",
    "c = np.vstack([d,d,d])  # Rule 2\r\n",
    "print(c)\r\n",
    "print(c.shape)\r\n",
    "\r\n",
    "print(M+c) #same as M+a a(3,0) --> d(1,3) --> c(3,3) now c is compatible in shape with M "
   ],
   "outputs": [
    {
     "output_type": "stream",
     "name": "stdout",
     "text": [
      "[[0 1 2]]\n",
      "(1, 3)\n",
      "[[0 1 2]\n",
      " [0 1 2]\n",
      " [0 1 2]]\n",
      "(3, 3)\n",
      "[[1. 2. 3.]\n",
      " [1. 2. 3.]\n",
      " [1. 2. 3.]]\n"
     ]
    }
   ],
   "metadata": {}
  },
  {
   "cell_type": "markdown",
   "source": [
    "## LINEAR ALGEBRA"
   ],
   "metadata": {}
  },
  {
   "cell_type": "code",
   "execution_count": 84,
   "source": [
    "#transpose of array / matrix\r\n",
    "arr16 = np.arange(15).reshape(3,5)\r\n",
    "print(arr16)\r\n",
    "print(arr16.T)    # transpose\r\n",
    "\r\n",
    "x = np.array([[1., 2., 3.], [4., 5., 6.]])\r\n",
    "y = np.array([[6., 23.], [-1, 7], [8, 9]])\r\n",
    "x.dot(y)\r\n",
    "np.dot(x,y)\r\n",
    "np.dot(y,x)"
   ],
   "outputs": [
    {
     "output_type": "stream",
     "name": "stdout",
     "text": [
      "[[ 0  1  2  3  4]\n",
      " [ 5  6  7  8  9]\n",
      " [10 11 12 13 14]]\n",
      "[[ 0  5 10]\n",
      " [ 1  6 11]\n",
      " [ 2  7 12]\n",
      " [ 3  8 13]\n",
      " [ 4  9 14]]\n"
     ]
    },
    {
     "output_type": "execute_result",
     "data": {
      "text/plain": [
       "array([[ 98., 127., 156.],\n",
       "       [ 27.,  33.,  39.],\n",
       "       [ 44.,  61.,  78.]])"
      ]
     },
     "metadata": {},
     "execution_count": 84
    }
   ],
   "metadata": {}
  },
  {
   "cell_type": "code",
   "execution_count": 85,
   "source": [
    "print(np.ones(3))\r\n",
    "print(np.dot(x,np.ones(3)))"
   ],
   "outputs": [
    {
     "output_type": "stream",
     "name": "stdout",
     "text": [
      "[1. 1. 1.]\n",
      "[ 6. 15.]\n"
     ]
    }
   ],
   "metadata": {}
  },
  {
   "cell_type": "code",
   "execution_count": 91,
   "source": [
    "from numpy.linalg import inv, qr\r\n",
    "X = np.random.randn(2, 2)\r\n",
    "print(X)\r\n",
    "mat = X.T.dot(X)\r\n",
    "print(mat)\r\n",
    "print(inv(mat))\r\n",
    "\r\n",
    "print(np.absolute(np.round(mat.dot(inv(mat)))))"
   ],
   "outputs": [
    {
     "output_type": "stream",
     "name": "stdout",
     "text": [
      "[[-1.89333828  0.07429561]\n",
      " [ 0.61317339 -0.93610976]]\n",
      "[[ 3.96071144 -0.71466432]\n",
      " [-0.71466432  0.88182132]]\n",
      "[[0.29572517 0.23966786]\n",
      " [0.23966786 1.32825329]]\n",
      "[[1. 0.]\n",
      " [0. 1.]]\n"
     ]
    }
   ],
   "metadata": {}
  },
  {
   "cell_type": "code",
   "execution_count": 92,
   "source": [
    "#QR decomposition where q is an orthogonal matrix and r is an upper triangular matrix\n",
    "q, r = qr(mat)\n",
    "print(q)\n",
    "print(r)\n",
    "\n",
    "#properties of orthogonal matrix\n",
    "print(np.round(q.T-inv(q)))\n",
    "\n",
    "#properties of orthogonal matrix\n",
    "print(np.round(np.dot(q,q.T)))\n",
    "\n",
    "#properties of orthogonal matrix\n",
    "print(np.round(np.dot(q.T,q)))"
   ],
   "outputs": [
    {
     "output_type": "stream",
     "name": "stdout",
     "text": [
      "[[-0.98410802  0.17757085]\n",
      " [ 0.17757085  0.98410802]]\n",
      "[[-4.02467144  0.85989264]\n",
      " [ 0.          0.74090388]]\n",
      "[[0. 0.]\n",
      " [0. 0.]]\n",
      "[[1. 0.]\n",
      " [0. 1.]]\n",
      "[[1. 0.]\n",
      " [0. 1.]]\n"
     ]
    }
   ],
   "metadata": {}
  },
  {
   "cell_type": "code",
   "execution_count": 93,
   "source": [
    "print(np.diag(q))\n",
    "print(np.trace(q))\n",
    "print(sum(np.diag(q)))\n",
    "print(np.diag(q).sum())\n",
    "print(np.diag(q).cumsum())"
   ],
   "outputs": [
    {
     "output_type": "stream",
     "name": "stdout",
     "text": [
      "[-0.98410802  0.98410802]\n",
      "1.1102230246251565e-16\n",
      "1.1102230246251565e-16\n",
      "1.1102230246251565e-16\n",
      "[-9.84108020e-01  1.11022302e-16]\n"
     ]
    }
   ],
   "metadata": {}
  },
  {
   "cell_type": "code",
   "execution_count": 94,
   "source": [
    "#determinant: matrix must be square\n",
    "X = np.array([[2, 9],[0, 3]])\n",
    "\n",
    "print(np.linalg.det(X))\n",
    "print(np.linalg.eig(X))      # prints eig values with corresponding eigen vectors\n",
    "print(np.linalg.eigvals(X))  # prints only eigen values"
   ],
   "outputs": [
    {
     "output_type": "stream",
     "name": "stdout",
     "text": [
      "6.0\n",
      "(array([2., 3.]), array([[1.        , 0.99388373],\n",
      "       [0.        , 0.11043153]]))\n",
      "[2. 3.]\n"
     ]
    }
   ],
   "metadata": {}
  },
  {
   "cell_type": "code",
   "execution_count": null,
   "source": [
    "#SVD: Reconstruction based on full SVD: \n",
    "#refer: https://docs.scipy.org/doc/numpy-1.9.2/reference/generated/numpy.linalg.svd.html\n",
    "a = np.random.randn(9, 6) + 1j*np.random.randn(9, 6)\n",
    "U, s, V = np.linalg.svd(a, full_matrices=True)\n",
    "print(U.shape, V.shape, s.shape)\n",
    "S = np.zeros((9, 6), dtype=complex); S\n",
    "S[:6, :6] = np.diag(s); S\n",
    "np.diag(s)\n",
    "np.allclose(a, np.dot(U, np.dot(S, V)))\n",
    "np.dot(U, np.dot(S, V))"
   ],
   "outputs": [],
   "metadata": {}
  },
  {
   "cell_type": "markdown",
   "source": [
    "# random numbers"
   ],
   "metadata": {}
  },
  {
   "cell_type": "code",
   "execution_count": 98,
   "source": [
    "print(np.random.seed(1234))\n",
    "arr18 = np.random.normal(size=(4, 4))\n",
    "print(arr18)\n",
    "print(np.random.binomial(10,0.33,size=15))\n",
    "print(np.random.normal(5,2,10000).mean())\n",
    "print(np.random.normal(5,2,10000).std())"
   ],
   "outputs": [
    {
     "output_type": "stream",
     "name": "stdout",
     "text": [
      "None\n",
      "[[ 4.71435164e-01 -1.19097569e+00  1.43270697e+00 -3.12651896e-01]\n",
      " [-7.20588733e-01  8.87162940e-01  8.59588414e-01 -6.36523504e-01]\n",
      " [ 1.56963721e-02 -2.24268495e+00  1.15003572e+00  9.91946022e-01]\n",
      " [ 9.53324128e-01 -2.02125482e+00 -3.34077366e-01  2.11836468e-03]]\n",
      "[4 5 3 4 1 3 6 4 3 4 3 3 5 3 5]\n",
      "5.016265621086111\n",
      "1.992050343037648\n"
     ]
    }
   ],
   "metadata": {}
  },
  {
   "cell_type": "code",
   "execution_count": 54,
   "source": [
    "#normal (0,1)\n",
    "print(np.random.randn(10))\n",
    "#uniform (0,1)\n",
    "print(np.random.rand(10))\n",
    "#uniform\n",
    "print(np.random.uniform(3,5,10))\n",
    "#poisson\n",
    "print(np.random.poisson(4,10))"
   ],
   "outputs": [
    {
     "output_type": "stream",
     "name": "stdout",
     "text": [
      "[ 0.72730985 -0.48966741 -1.02664196  0.16564374  0.74895337  0.63616546\n",
      "  0.6531294   0.08808823  0.56479549 -0.75624656]\n",
      "[0.72890216 0.25396246 0.79431666 0.15865478 0.72942481 0.31814779\n",
      " 0.17307812 0.8996373  0.06395759 0.8496642 ]\n",
      "[3.64158895 4.69912623 3.94143161 3.4116599  4.48992735 4.05267533\n",
      " 4.4962627  4.09026479 4.35627809 3.90785584]\n",
      "[6 2 4 3 4 3 3 8 8 5]\n"
     ]
    }
   ],
   "metadata": {}
  },
  {
   "cell_type": "code",
   "execution_count": 64,
   "source": [
    "#random walk simulation\n",
    "%matplotlib inline\n",
    "import matplotlib.pyplot as plt\n",
    "nsteps = 10\n",
    "draws = np.random.randint(0, 2, size=nsteps)\n",
    "print(draws)\n",
    "steps = np.where(draws > 0, 1, -1)\n",
    "print(steps)\n",
    "walk = steps.cumsum()\n",
    "print(walk)\n",
    "plt.plot(walk)"
   ],
   "outputs": [
    {
     "output_type": "stream",
     "name": "stdout",
     "text": [
      "[1 0 0 0 1 0 1 0 1 1]\n",
      "[ 1 -1 -1 -1  1 -1  1 -1  1  1]\n",
      "[ 1  0 -1 -2 -1 -2 -1 -2 -1  0]\n"
     ]
    },
    {
     "output_type": "execute_result",
     "data": {
      "text/plain": [
       "[<matplotlib.lines.Line2D at 0x10b79ac0>]"
      ]
     },
     "metadata": {},
     "execution_count": 64
    },
    {
     "output_type": "display_data",
     "data": {
      "text/plain": [
       "<Figure size 432x288 with 1 Axes>"
      ],
      "image/png": "[encoded data removed]"
     },
     "metadata": {
      "needs_background": "light"
     }
    }
   ],
   "metadata": {}
  }
 ],
 "metadata": {
  "interpreter": {
   "hash": "37c139f5431107e422e5affdb96566cc7bc4291c0219fcb5b31015c986fd2290"
  },
  "kernelspec": {
   "name": "python3",
   "display_name": "Python 3.8.1 32-bit"
  },
  "language_info": {
   "codemirror_mode": {
    "name": "ipython",
    "version": 3
   },
   "file_extension": ".py",
   "mimetype": "text/x-python",
   "name": "python",
   "nbconvert_exporter": "python",
   "pygments_lexer": "ipython3",
   "version": "3.8.1"
  }
 },
 "nbformat": 4,
 "nbformat_minor": 5
}