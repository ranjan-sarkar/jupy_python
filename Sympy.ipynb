{
 "cells": [
  {
   "cell_type": "markdown",
   "id": "f378977f",
   "metadata": {},
   "source": [
    "# Sympy"
   ]
  },
  {
   "cell_type": "markdown",
   "id": "919e3b87",
   "metadata": {},
   "source": [
    "***\n",
    "YouTube Playlist Link:\n",
    "<a href=\"https://www.youtube.com/playlist?list=PLYaU7iNIaoaL_9vy0WkmWBqjCYB0VCXm1\" target = \"_blank\">Learn SymPy Playlist</a>\n",
    "***"
   ]
  },
  {
   "cell_type": "code",
   "execution_count": 161,
   "id": "1b9f93d8",
   "metadata": {},
   "outputs": [],
   "source": [
    "from sympy import *\n",
    "init_printing()"
   ]
  },
  {
   "cell_type": "code",
   "execution_count": 162,
   "id": "5ab48a14",
   "metadata": {},
   "outputs": [
    {
     "data": {
      "image/png": "[encoded data removed]",
      "text/latex": [
       "$\\displaystyle 7$"
      ],
      "text/plain": [
       "7"
      ]
     },
     "execution_count": 162,
     "metadata": {},
     "output_type": "execute_result"
    }
   ],
   "source": [
    "prime(4)  # 4th prime number"
   ]
  },
  {
   "cell_type": "code",
   "execution_count": 163,
   "id": "9bb5687c",
   "metadata": {},
   "outputs": [
    {
     "data": {
      "image/png": "[encoded data removed]",
      "text/latex": [
       "$\\displaystyle 37$"
      ],
      "text/plain": [
       "37"
      ]
     },
     "execution_count": 163,
     "metadata": {},
     "output_type": "execute_result"
    }
   ],
   "source": [
    "nextprime(34)"
   ]
  },
  {
   "cell_type": "code",
   "execution_count": 164,
   "id": "67d45d64",
   "metadata": {},
   "outputs": [
    {
     "data": {
      "image/png": "[encoded data removed]",
      "text/latex": [
       "$\\displaystyle 23$"
      ],
      "text/plain": [
       "23"
      ]
     },
     "execution_count": 164,
     "metadata": {},
     "output_type": "execute_result"
    }
   ],
   "source": [
    "prevprime(28)"
   ]
  },
  {
   "cell_type": "code",
   "execution_count": 165,
   "id": "4712796e",
   "metadata": {},
   "outputs": [
    {
     "data": {
      "image/png": "[encoded data removed]",
      "text/latex": [
       "$\\displaystyle 2$"
      ],
      "text/plain": [
       "2"
      ]
     },
     "execution_count": 165,
     "metadata": {},
     "output_type": "execute_result"
    }
   ],
   "source": [
    "sqrt(4)"
   ]
  },
  {
   "cell_type": "code",
   "execution_count": 166,
   "id": "224b31d3",
   "metadata": {},
   "outputs": [
    {
     "data": {
      "image/png": "[encoded data removed]",
      "text/latex": [
       "$\\displaystyle 2 \\sqrt{2}$"
      ],
      "text/plain": [
       "2⋅√2"
      ]
     },
     "execution_count": 166,
     "metadata": {},
     "output_type": "execute_result"
    }
   ],
   "source": [
    "sqrt(8)"
   ]
  },
  {
   "cell_type": "code",
   "execution_count": 167,
   "id": "1a672d09",
   "metadata": {},
   "outputs": [
    {
     "data": {
      "image/png": "[encoded data removed]",
      "text/latex": [
       "$\\displaystyle \\frac{7}{4}$"
      ],
      "text/plain": [
       "7/4"
      ]
     },
     "execution_count": 167,
     "metadata": {},
     "output_type": "execute_result"
    }
   ],
   "source": [
    "Rational(7,4)"
   ]
  },
  {
   "cell_type": "code",
   "execution_count": 168,
   "id": "35580d13",
   "metadata": {
    "scrolled": true
   },
   "outputs": [
    {
     "data": {
      "image/png": "[encoded data removed]",
      "text/latex": [
       "$\\displaystyle 1.75$"
      ],
      "text/plain": [
       "1.75000000000000"
      ]
     },
     "execution_count": 168,
     "metadata": {},
     "output_type": "execute_result"
    }
   ],
   "source": [
    "N(_)"
   ]
  },
  {
   "cell_type": "code",
   "execution_count": 169,
   "id": "71e7435e",
   "metadata": {},
   "outputs": [
    {
     "data": {
      "image/png": "[encoded data removed]",
      "text/latex": [
       "$\\displaystyle \\frac{7}{2}$"
      ],
      "text/plain": [
       "7/2"
      ]
     },
     "execution_count": 169,
     "metadata": {},
     "output_type": "execute_result"
    }
   ],
   "source": [
    "Rational(3.50) # finding rational expression (only for 1.5, 2.5 etc)"
   ]
  },
  {
   "cell_type": "code",
   "execution_count": 170,
   "id": "0c4aab7c",
   "metadata": {},
   "outputs": [
    {
     "data": {
      "image/png": "[encoded data removed]",
      "text/latex": [
       "$\\displaystyle 1.4142135623731$"
      ],
      "text/plain": [
       "1.41421356237310"
      ]
     },
     "execution_count": 170,
     "metadata": {},
     "output_type": "execute_result"
    }
   ],
   "source": [
    "N(sqrt(2))"
   ]
  },
  {
   "cell_type": "code",
   "execution_count": 171,
   "id": "84ee7aec",
   "metadata": {},
   "outputs": [
    {
     "data": {
      "image/png": "[encoded data removed]",
      "text/latex": [
       "$\\displaystyle 3.1416$"
      ],
      "text/plain": [
       "3.1416"
      ]
     },
     "execution_count": 171,
     "metadata": {},
     "output_type": "execute_result"
    }
   ],
   "source": [
    "N(pi,5) # numerical value of Pi approx. upto 5 decimal points"
   ]
  },
  {
   "cell_type": "code",
   "execution_count": 172,
   "id": "fb054067",
   "metadata": {},
   "outputs": [
    {
     "data": {
      "image/png": "[encoded data removed]",
      "text/latex": [
       "$\\displaystyle 2.23606797749979$"
      ],
      "text/plain": [
       "2.23606797749979"
      ]
     },
     "execution_count": 172,
     "metadata": {},
     "output_type": "execute_result"
    }
   ],
   "source": [
    "sqrt(5).evalf()"
   ]
  },
  {
   "cell_type": "code",
   "execution_count": 173,
   "id": "1b8b4f11",
   "metadata": {},
   "outputs": [
    {
     "data": {
      "image/png": "[encoded data removed]",
      "text/latex": [
       "$\\displaystyle 2.2361$"
      ],
      "text/plain": [
       "2.2361"
      ]
     },
     "execution_count": 173,
     "metadata": {},
     "output_type": "execute_result"
    }
   ],
   "source": [
    "sqrt(5).evalf(5)"
   ]
  },
  {
   "cell_type": "code",
   "execution_count": 174,
   "id": "94275757",
   "metadata": {},
   "outputs": [],
   "source": [
    "from fractions import *"
   ]
  },
  {
   "cell_type": "code",
   "execution_count": 175,
   "id": "10676856",
   "metadata": {},
   "outputs": [
    {
     "name": "stdout",
     "output_type": "stream",
     "text": [
      "3/4\n"
     ]
    }
   ],
   "source": [
    "print(Fraction(3,4))"
   ]
  },
  {
   "cell_type": "code",
   "execution_count": 176,
   "id": "057f8476",
   "metadata": {},
   "outputs": [
    {
     "data": {
      "image/png": "[encoded data removed]",
      "text/latex": [
       "$\\displaystyle \\pi$"
      ],
      "text/plain": [
       "π"
      ]
     },
     "execution_count": 176,
     "metadata": {},
     "output_type": "execute_result"
    }
   ],
   "source": [
    "pi"
   ]
  },
  {
   "cell_type": "code",
   "execution_count": 177,
   "id": "75eb009d",
   "metadata": {},
   "outputs": [
    {
     "data": {
      "text/plain": [
       "sympy.core.numbers.Pi"
      ]
     },
     "execution_count": 177,
     "metadata": {},
     "output_type": "execute_result"
    }
   ],
   "source": [
    "type(pi)"
   ]
  },
  {
   "cell_type": "code",
   "execution_count": 178,
   "id": "3259cba6",
   "metadata": {},
   "outputs": [
    {
     "data": {
      "image/png": "[encoded data removed]",
      "text/latex": [
       "$\\displaystyle 24$"
      ],
      "text/plain": [
       "24"
      ]
     },
     "execution_count": 178,
     "metadata": {},
     "output_type": "execute_result"
    }
   ],
   "source": [
    "factorial(4)"
   ]
  },
  {
   "cell_type": "code",
   "execution_count": 179,
   "id": "358ae4cc",
   "metadata": {},
   "outputs": [
    {
     "data": {
      "text/plain": [
       "sympy.core.numbers.Integer"
      ]
     },
     "execution_count": 179,
     "metadata": {},
     "output_type": "execute_result"
    }
   ],
   "source": [
    "type(factorial(3))"
   ]
  },
  {
   "cell_type": "markdown",
   "id": "38348061",
   "metadata": {},
   "source": [
    "## Symbols / Expressions"
   ]
  },
  {
   "cell_type": "code",
   "execution_count": 180,
   "id": "79779690",
   "metadata": {},
   "outputs": [],
   "source": [
    "x, n, r, h, t = symbols('x n r h t')"
   ]
  },
  {
   "cell_type": "code",
   "execution_count": 181,
   "id": "8fe32ce3",
   "metadata": {},
   "outputs": [
    {
     "data": {
      "image/png": "[encoded data removed]",
      "text/latex": [
       "$\\displaystyle \\frac{x}{n}$"
      ],
      "text/plain": [
       "x\n",
       "─\n",
       "n"
      ]
     },
     "execution_count": 181,
     "metadata": {},
     "output_type": "execute_result"
    }
   ],
   "source": [
    "x/n"
   ]
  },
  {
   "cell_type": "code",
   "execution_count": 185,
   "id": "679f9af5",
   "metadata": {
    "scrolled": false
   },
   "outputs": [
    {
     "data": {
      "image/png": "[encoded data removed]",
      "text/latex": [
       "$\\displaystyle \\sqrt{n} + \\frac{\\sin{\\left(x \\right)} - 3}{\\cos{\\left(\\pi n \\right)} - 1} + e^{x}$"
      ],
      "text/plain": [
       "      sin(x) - 3     x\n",
       "√n + ──────────── + ℯ \n",
       "     cos(π⋅n) - 1     "
      ]
     },
     "execution_count": 185,
     "metadata": {},
     "output_type": "execute_result"
    }
   ],
   "source": [
    "sqrt(n) + exp(x) + (sin(x)-3)/(cos(n*pi)-1)"
   ]
  },
  {
   "cell_type": "code",
   "execution_count": 186,
   "id": "31d7445d",
   "metadata": {},
   "outputs": [],
   "source": [
    "a = Symbol('a')"
   ]
  },
  {
   "cell_type": "code",
   "execution_count": 187,
   "id": "1babd549",
   "metadata": {},
   "outputs": [],
   "source": [
    "# importing multiple symbols\n",
    "\n",
    "from sympy.abc import p, q, xi, theta"
   ]
  },
  {
   "cell_type": "code",
   "execution_count": 188,
   "id": "461e226b",
   "metadata": {},
   "outputs": [
    {
     "data": {
      "image/png": "[encoded data removed]",
      "text/latex": [
       "$\\displaystyle a \\left(\\frac{p}{3} + \\frac{\\xi}{3}\\right) + \\sin{\\left(\\theta \\right)} + \\frac{1}{3}$"
      ],
      "text/plain": [
       "  ⎛p   ξ⎞            1\n",
       "a⋅⎜─ + ─⎟ + sin(θ) + ─\n",
       "  ⎝3   3⎠            3"
      ]
     },
     "execution_count": 188,
     "metadata": {},
     "output_type": "execute_result"
    }
   ],
   "source": [
    "(xi + p)/3*a + sin(theta) + Rational(1,3)"
   ]
  },
  {
   "cell_type": "code",
   "execution_count": 189,
   "id": "c9268fc2",
   "metadata": {
    "scrolled": true
   },
   "outputs": [
    {
     "data": {
      "image/png": "[encoded data removed]",
      "text/latex": [
       "$\\displaystyle \\pi h r^{2}$"
      ],
      "text/plain": [
       "     2\n",
       "π⋅h⋅r "
      ]
     },
     "execution_count": 189,
     "metadata": {},
     "output_type": "execute_result"
    }
   ],
   "source": [
    "volume = pi*r**2*h # volume of a Cylinder\n",
    "volume"
   ]
  },
  {
   "cell_type": "code",
   "execution_count": 190,
   "id": "a34569ab",
   "metadata": {},
   "outputs": [
    {
     "data": {
      "image/png": "[encoded data removed]",
      "text/latex": [
       "$\\displaystyle 4 \\pi h$"
      ],
      "text/plain": [
       "4⋅π⋅h"
      ]
     },
     "execution_count": 190,
     "metadata": {},
     "output_type": "execute_result"
    }
   ],
   "source": [
    "volume.subs(r, 2)  # subsitituting with a value"
   ]
  },
  {
   "cell_type": "code",
   "execution_count": 191,
   "id": "ccc0a913",
   "metadata": {},
   "outputs": [
    {
     "data": {
      "image/png": "[encoded data removed]",
      "text/latex": [
       "$\\displaystyle 0.75 \\pi$"
      ],
      "text/plain": [
       "0.75⋅π"
      ]
     },
     "execution_count": 191,
     "metadata": {},
     "output_type": "execute_result"
    }
   ],
   "source": [
    "volume.subs([(r,1/2),(h,3)]) # multiple substitution"
   ]
  },
  {
   "cell_type": "code",
   "execution_count": 192,
   "id": "57ed9bdc",
   "metadata": {},
   "outputs": [
    {
     "data": {
      "image/png": "[encoded data removed]",
      "text/latex": [
       "$\\displaystyle 2.35619449019234$"
      ],
      "text/plain": [
       "2.35619449019234"
      ]
     },
     "execution_count": 192,
     "metadata": {},
     "output_type": "execute_result"
    }
   ],
   "source": [
    "volume.subs([(r,1/2),(h,3)]).evalf()"
   ]
  },
  {
   "cell_type": "code",
   "execution_count": 193,
   "id": "0b1ddae2",
   "metadata": {
    "scrolled": true
   },
   "outputs": [
    {
     "data": {
      "image/png": "[encoded data removed]",
      "text/latex": [
       "$\\displaystyle \\frac{3 \\pi}{4}$"
      ],
      "text/plain": [
       "3⋅π\n",
       "───\n",
       " 4 "
      ]
     },
     "execution_count": 193,
     "metadata": {},
     "output_type": "execute_result"
    }
   ],
   "source": [
    "volume.subs([(r,Rational(1/2)),(h,3)])"
   ]
  },
  {
   "cell_type": "code",
   "execution_count": 194,
   "id": "89025f89",
   "metadata": {},
   "outputs": [
    {
     "data": {
      "image/png": "[encoded data removed]",
      "text/latex": [
       "$\\displaystyle 2$"
      ],
      "text/plain": [
       "2"
      ]
     },
     "execution_count": 194,
     "metadata": {},
     "output_type": "execute_result"
    }
   ],
   "source": [
    "import sympy as sp\n",
    "sp.gcd(4,6)"
   ]
  },
  {
   "cell_type": "code",
   "execution_count": 195,
   "id": "5004afa6",
   "metadata": {},
   "outputs": [
    {
     "data": {
      "image/png": "[encoded data removed]",
      "text/latex": [
       "$\\displaystyle 4$"
      ],
      "text/plain": [
       "4"
      ]
     },
     "execution_count": 195,
     "metadata": {},
     "output_type": "execute_result"
    }
   ],
   "source": [
    "sp.gcd(4*x,4)"
   ]
  },
  {
   "cell_type": "code",
   "execution_count": 196,
   "id": "2289fcfe",
   "metadata": {},
   "outputs": [
    {
     "data": {
      "image/png": "[encoded data removed]",
      "text/latex": [
       "$\\displaystyle 2 x^{2}$"
      ],
      "text/plain": [
       "   2\n",
       "2⋅x "
      ]
     },
     "execution_count": 196,
     "metadata": {},
     "output_type": "execute_result"
    }
   ],
   "source": [
    "sp.gcd(4*x**3, 6*x**2)"
   ]
  },
  {
   "cell_type": "code",
   "execution_count": 197,
   "id": "d16fd538",
   "metadata": {},
   "outputs": [],
   "source": [
    "exp = factor(12*x**2 - 2*x)"
   ]
  },
  {
   "cell_type": "code",
   "execution_count": 198,
   "id": "c20731e3",
   "metadata": {},
   "outputs": [
    {
     "data": {
      "image/png": "[encoded data removed]",
      "text/latex": [
       "$\\displaystyle 2 x \\left(6 x - 1\\right)$"
      ],
      "text/plain": [
       "2⋅x⋅(6⋅x - 1)"
      ]
     },
     "execution_count": 198,
     "metadata": {},
     "output_type": "execute_result"
    }
   ],
   "source": [
    "exp"
   ]
  },
  {
   "cell_type": "code",
   "execution_count": 199,
   "id": "36cddcc5",
   "metadata": {},
   "outputs": [
    {
     "data": {
      "image/png": "[encoded data removed]",
      "text/latex": [
       "$\\displaystyle 12 x^{2} - 2 x$"
      ],
      "text/plain": [
       "    2      \n",
       "12⋅x  - 2⋅x"
      ]
     },
     "execution_count": 199,
     "metadata": {},
     "output_type": "execute_result"
    }
   ],
   "source": [
    "exp.expand()"
   ]
  },
  {
   "cell_type": "code",
   "execution_count": 200,
   "id": "559b03e4",
   "metadata": {},
   "outputs": [
    {
     "data": {
      "image/png": "[encoded data removed]",
      "text/latex": [
       "$\\displaystyle 6 x^{2} - x - 12$"
      ],
      "text/plain": [
       "   2         \n",
       "6⋅x  - x - 12"
      ]
     },
     "execution_count": 200,
     "metadata": {},
     "output_type": "execute_result"
    }
   ],
   "source": [
    "sp.expand((2*x-3)*(3*x+4))"
   ]
  },
  {
   "cell_type": "code",
   "execution_count": 201,
   "id": "81808274",
   "metadata": {},
   "outputs": [
    {
     "data": {
      "image/png": "[encoded data removed]",
      "text/latex": [
       "$\\displaystyle \\frac{h^{2}}{2} + 2 \\sin{\\left(\\theta \\right)} \\cos{\\left(\\theta \\right)}$"
      ],
      "text/plain": [
       " 2                  \n",
       "h                   \n",
       "── + 2⋅sin(θ)⋅cos(θ)\n",
       "2                   "
      ]
     },
     "execution_count": 201,
     "metadata": {},
     "output_type": "execute_result"
    }
   ],
   "source": [
    "exp1 = (2*h**2 /4 + 2*sin(theta)*cos(theta))\n",
    "exp1"
   ]
  },
  {
   "cell_type": "code",
   "execution_count": 202,
   "id": "95a8d07c",
   "metadata": {},
   "outputs": [
    {
     "data": {
      "image/png": "[encoded data removed]",
      "text/latex": [
       "$\\displaystyle \\frac{h^{2}}{2} + \\sin{\\left(2 \\theta \\right)}$"
      ],
      "text/plain": [
       " 2           \n",
       "h            \n",
       "── + sin(2⋅θ)\n",
       "2            "
      ]
     },
     "execution_count": 202,
     "metadata": {},
     "output_type": "execute_result"
    }
   ],
   "source": [
    "simplify(exp1)"
   ]
  },
  {
   "cell_type": "markdown",
   "id": "14397c1b",
   "metadata": {},
   "source": [
    "### Equation"
   ]
  },
  {
   "cell_type": "code",
   "execution_count": 203,
   "id": "abaf8fb6",
   "metadata": {},
   "outputs": [
    {
     "data": {
      "image/png": "[encoded data removed]",
      "text/latex": [
       "$\\displaystyle x + 2 = 9$"
      ],
      "text/plain": [
       "x + 2 = 9"
      ]
     },
     "execution_count": 203,
     "metadata": {},
     "output_type": "execute_result"
    }
   ],
   "source": [
    "eqn = Eq(x+2,9)\n",
    "eqn"
   ]
  },
  {
   "cell_type": "code",
   "execution_count": 204,
   "id": "f22062b3",
   "metadata": {},
   "outputs": [
    {
     "data": {
      "image/png": "[encoded data removed]",
      "text/latex": [
       "$\\displaystyle \\left[ 7\\right]$"
      ],
      "text/plain": [
       "[7]"
      ]
     },
     "execution_count": 204,
     "metadata": {},
     "output_type": "execute_result"
    }
   ],
   "source": [
    "solve(eqn)"
   ]
  },
  {
   "cell_type": "code",
   "execution_count": null,
   "id": "af0c94b3",
   "metadata": {},
   "outputs": [],
   "source": [
    "eqn2 = Eq((x-2)**2)\n",
    "eqn2"
   ]
  },
  {
   "cell_type": "code",
   "execution_count": 206,
   "id": "3e93fefb",
   "metadata": {},
   "outputs": [
    {
     "data": {
      "image/png": "[encoded data removed]",
      "text/latex": [
       "$\\displaystyle \\left[ -3, \\  3\\right]$"
      ],
      "text/plain": [
       "[-3, 3]"
      ]
     },
     "execution_count": 206,
     "metadata": {},
     "output_type": "execute_result"
    }
   ],
   "source": [
    "solve(eqn2)"
   ]
  },
  {
   "cell_type": "code",
   "execution_count": 207,
   "id": "e7b905c0",
   "metadata": {},
   "outputs": [
    {
     "data": {
      "image/png": "[encoded data removed]",
      "text/latex": [
       "$\\displaystyle \\left\\{-3, 3\\right\\}$"
      ],
      "text/plain": [
       "{-3, 3}"
      ]
     },
     "execution_count": 207,
     "metadata": {},
     "output_type": "execute_result"
    }
   ],
   "source": [
    "solveset(eqn2)"
   ]
  },
  {
   "cell_type": "code",
   "execution_count": 208,
   "id": "c295fcc6",
   "metadata": {},
   "outputs": [
    {
     "data": {
      "text/plain": [
       "sympy.sets.sets.FiniteSet"
      ]
     },
     "execution_count": 208,
     "metadata": {},
     "output_type": "execute_result"
    }
   ],
   "source": [
    "type(_)"
   ]
  },
  {
   "cell_type": "code",
   "execution_count": 209,
   "id": "c13c166b",
   "metadata": {
    "scrolled": true
   },
   "outputs": [
    {
     "data": {
      "image/png": "[encoded data removed]",
      "text/latex": [
       "$\\displaystyle x^{2} = 0$"
      ],
      "text/plain": [
       " 2    \n",
       "x  = 0"
      ]
     },
     "execution_count": 209,
     "metadata": {},
     "output_type": "execute_result"
    }
   ],
   "source": [
    "# eqn3 = Eq(x**2)\n",
    "eqn3 = Eq(x**2, 0)  # we should use this one\n",
    "eqn3"
   ]
  },
  {
   "cell_type": "code",
   "execution_count": 210,
   "id": "e94321db",
   "metadata": {},
   "outputs": [
    {
     "data": {
      "image/png": "[encoded data removed]",
      "text/latex": [
       "$\\displaystyle \\left[ -2, \\  2\\right]$"
      ],
      "text/plain": [
       "[-2, 2]"
      ]
     },
     "execution_count": 210,
     "metadata": {},
     "output_type": "execute_result"
    }
   ],
   "source": [
    "solve(Eq(x**2-4,0))"
   ]
  },
  {
   "cell_type": "code",
   "execution_count": 211,
   "id": "12e541e9",
   "metadata": {},
   "outputs": [
    {
     "name": "stdout",
     "output_type": "stream",
     "text": [
      "Type your Eq. taking x as variable and in Eq() format: x**2 - 4\n"
     ]
    }
   ],
   "source": [
    "# taking Equation input from user to solve this equation\n",
    "\n",
    "new_eqn = sympify(input(\"Type your Eq. taking x as variable and in Eq() format: \"))"
   ]
  },
  {
   "cell_type": "code",
   "execution_count": 212,
   "id": "234c3e22",
   "metadata": {},
   "outputs": [
    {
     "data": {
      "image/png": "[encoded data removed]",
      "text/latex": [
       "$\\displaystyle x^{2} - 4$"
      ],
      "text/plain": [
       " 2    \n",
       "x  - 4"
      ]
     },
     "execution_count": 212,
     "metadata": {},
     "output_type": "execute_result"
    }
   ],
   "source": [
    "new_eqn"
   ]
  },
  {
   "cell_type": "code",
   "execution_count": 213,
   "id": "cb356a96",
   "metadata": {},
   "outputs": [
    {
     "data": {
      "image/png": "[encoded data removed]",
      "text/latex": [
       "$\\displaystyle \\left[ -2, \\  2\\right]$"
      ],
      "text/plain": [
       "[-2, 2]"
      ]
     },
     "execution_count": 213,
     "metadata": {},
     "output_type": "execute_result"
    }
   ],
   "source": [
    "solve(new_eqn)"
   ]
  },
  {
   "cell_type": "markdown",
   "id": "2f72f403",
   "metadata": {},
   "source": [
    "Two variable Equation"
   ]
  },
  {
   "cell_type": "code",
   "execution_count": 214,
   "id": "5492a8b4",
   "metadata": {},
   "outputs": [
    {
     "data": {
      "image/png": "[encoded data removed]",
      "text/latex": [
       "$\\displaystyle \\left[ \\left\\{ t : x + 3\\right\\}\\right]$"
      ],
      "text/plain": [
       "[{t: x + 3}]"
      ]
     },
     "execution_count": 214,
     "metadata": {},
     "output_type": "execute_result"
    }
   ],
   "source": [
    "eqn4 = Eq(x+3,t)\n",
    "solve(eqn4)"
   ]
  },
  {
   "cell_type": "code",
   "execution_count": 215,
   "id": "52c1d101",
   "metadata": {},
   "outputs": [
    {
     "data": {
      "image/png": "[encoded data removed]",
      "text/latex": [
       "$\\displaystyle \\left[ t - 3\\right]$"
      ],
      "text/plain": [
       "[t - 3]"
      ]
     },
     "execution_count": 215,
     "metadata": {},
     "output_type": "execute_result"
    }
   ],
   "source": [
    "solve(eqn4, x) # solving wrt 'x'"
   ]
  },
  {
   "cell_type": "code",
   "execution_count": 216,
   "id": "0b5a8ad3",
   "metadata": {},
   "outputs": [
    {
     "data": {
      "image/png": "[encoded data removed]",
      "text/latex": [
       "$\\displaystyle \\left[ x + 3\\right]$"
      ],
      "text/plain": [
       "[x + 3]"
      ]
     },
     "execution_count": 216,
     "metadata": {},
     "output_type": "execute_result"
    }
   ],
   "source": [
    "solve(eqn4, t) # solving wrt 't'"
   ]
  },
  {
   "cell_type": "markdown",
   "id": "e26fb32c",
   "metadata": {},
   "source": [
    "### Matrix"
   ]
  },
  {
   "cell_type": "code",
   "execution_count": 217,
   "id": "409711a6",
   "metadata": {},
   "outputs": [
    {
     "data": {
      "image/png": "[encoded data removed]",
      "text/latex": [
       "$\\displaystyle \\left[\\begin{matrix}2 & 4 & 1\\\\4 & -1 & 3\\end{matrix}\\right]$"
      ],
      "text/plain": [
       "⎡2  4   1⎤\n",
       "⎢        ⎥\n",
       "⎣4  -1  3⎦"
      ]
     },
     "execution_count": 217,
     "metadata": {},
     "output_type": "execute_result"
    }
   ],
   "source": [
    "A = Matrix([[2, 4, 1],[4,-1,3]])\n",
    "A"
   ]
  },
  {
   "cell_type": "code",
   "execution_count": 218,
   "id": "d51201c7",
   "metadata": {},
   "outputs": [
    {
     "name": "stdout",
     "output_type": "stream",
     "text": [
      "(2, 3)\n",
      "2\n"
     ]
    }
   ],
   "source": [
    "print(A.shape)  # shape of a matrix | here, it's a 2 * 3 Matrix\n",
    "print(A.rank()) # rank of a matrix"
   ]
  },
  {
   "cell_type": "code",
   "execution_count": 219,
   "id": "e40e6748",
   "metadata": {},
   "outputs": [
    {
     "data": {
      "image/png": "[encoded data removed]",
      "text/latex": [
       "$\\displaystyle 1$"
      ],
      "text/plain": [
       "1"
      ]
     },
     "execution_count": 219,
     "metadata": {},
     "output_type": "execute_result"
    }
   ],
   "source": [
    "A[2]  # rowwise indexing"
   ]
  },
  {
   "cell_type": "code",
   "execution_count": 220,
   "id": "4d6b4678",
   "metadata": {},
   "outputs": [
    {
     "data": {
      "image/png": "[encoded data removed]",
      "text/latex": [
       "$\\displaystyle -1$"
      ],
      "text/plain": [
       "-1"
      ]
     },
     "execution_count": 220,
     "metadata": {},
     "output_type": "execute_result"
    }
   ],
   "source": [
    "A[1,1]  # accessing the elements by using index of row & column"
   ]
  },
  {
   "cell_type": "code",
   "execution_count": 221,
   "id": "0923cd1c",
   "metadata": {},
   "outputs": [
    {
     "data": {
      "image/png": "[encoded data removed]",
      "text/latex": [
       "$\\displaystyle \\left[\\begin{matrix}4 & 1\\\\-1 & 3\\end{matrix}\\right]$"
      ],
      "text/plain": [
       "⎡4   1⎤\n",
       "⎢     ⎥\n",
       "⎣-1  3⎦"
      ]
     },
     "execution_count": 221,
     "metadata": {},
     "output_type": "execute_result"
    }
   ],
   "source": [
    "# slicing\n",
    "A[:2,1:3]"
   ]
  },
  {
   "cell_type": "code",
   "execution_count": 222,
   "id": "354d5250",
   "metadata": {},
   "outputs": [
    {
     "data": {
      "image/png": "[encoded data removed]",
      "text/latex": [
       "$\\displaystyle \\left[\\begin{matrix}2 & 4 & 1\\end{matrix}\\right]$"
      ],
      "text/plain": [
       "[2  4  1]"
      ]
     },
     "execution_count": 222,
     "metadata": {},
     "output_type": "execute_result"
    }
   ],
   "source": [
    "A.row(0)"
   ]
  },
  {
   "cell_type": "code",
   "execution_count": 223,
   "id": "203b1abe",
   "metadata": {},
   "outputs": [
    {
     "data": {
      "image/png": "[encoded data removed]",
      "text/latex": [
       "$\\displaystyle \\left[\\begin{matrix}1\\\\3\\end{matrix}\\right]$"
      ],
      "text/plain": [
       "⎡1⎤\n",
       "⎢ ⎥\n",
       "⎣3⎦"
      ]
     },
     "execution_count": 223,
     "metadata": {},
     "output_type": "execute_result"
    }
   ],
   "source": [
    "A.col(2)"
   ]
  },
  {
   "cell_type": "code",
   "execution_count": 224,
   "id": "ec42fc36",
   "metadata": {},
   "outputs": [
    {
     "data": {
      "image/png": "[encoded data removed]",
      "text/latex": [
       "$\\displaystyle \\left[\\begin{matrix}2\\\\4\\\\1\\end{matrix}\\right]$"
      ],
      "text/plain": [
       "⎡2⎤\n",
       "⎢ ⎥\n",
       "⎢4⎥\n",
       "⎢ ⎥\n",
       "⎣1⎦"
      ]
     },
     "execution_count": 224,
     "metadata": {},
     "output_type": "execute_result"
    }
   ],
   "source": [
    "Matrix([2,4,1]) # by default, it is a column"
   ]
  },
  {
   "cell_type": "code",
   "execution_count": 225,
   "id": "33f164b2",
   "metadata": {
    "scrolled": false
   },
   "outputs": [
    {
     "data": {
      "image/png": "[encoded data removed]",
      "text/latex": [
       "$\\displaystyle \\left[\\begin{matrix}2 & 4 & 1\\end{matrix}\\right]$"
      ],
      "text/plain": [
       "[2  4  1]"
      ]
     },
     "execution_count": 225,
     "metadata": {},
     "output_type": "execute_result"
    }
   ],
   "source": [
    "_.T  # transpose | _.transpose() is also valid"
   ]
  },
  {
   "cell_type": "code",
   "execution_count": 226,
   "id": "ee24ed79",
   "metadata": {
    "scrolled": true
   },
   "outputs": [
    {
     "data": {
      "image/png": "[encoded data removed]",
      "text/latex": [
       "$\\displaystyle \\left[\\begin{matrix}2 & 3 & 4\\end{matrix}\\right]$"
      ],
      "text/plain": [
       "[2  3  4]"
      ]
     },
     "execution_count": 226,
     "metadata": {},
     "output_type": "execute_result"
    }
   ],
   "source": [
    "Matrix([[2, 3, 4]]) # printing a row"
   ]
  },
  {
   "cell_type": "code",
   "execution_count": 227,
   "id": "c48afc0a",
   "metadata": {},
   "outputs": [
    {
     "data": {
      "image/png": "[encoded data removed]",
      "text/latex": [
       "$\\displaystyle \\left[\\begin{matrix}8 & 2 & 1 & 4\\end{matrix}\\right]$"
      ],
      "text/plain": [
       "[8  2  1  4]"
      ]
     },
     "execution_count": 227,
     "metadata": {},
     "output_type": "execute_result"
    }
   ],
   "source": [
    "Matrix(1, 4, [8, 2, 1, 4]) # alternative way to print a row"
   ]
  },
  {
   "cell_type": "code",
   "execution_count": 228,
   "id": "8c00daaa",
   "metadata": {},
   "outputs": [
    {
     "data": {
      "image/png": "[encoded data removed]",
      "text/latex": [
       "$\\displaystyle \\left[\\begin{matrix}1 & 2 & 3\\\\x & t & t + x\\end{matrix}\\right]$"
      ],
      "text/plain": [
       "⎡1  2    3  ⎤\n",
       "⎢           ⎥\n",
       "⎣x  t  t + x⎦"
      ]
     },
     "execution_count": 228,
     "metadata": {},
     "output_type": "execute_result"
    }
   ],
   "source": [
    "Matrix(2,3, [1, 2, 3, x, t, x + t])"
   ]
  },
  {
   "cell_type": "code",
   "execution_count": 229,
   "id": "dbae4285",
   "metadata": {},
   "outputs": [
    {
     "data": {
      "image/png": "[encoded data removed]",
      "text/latex": [
       "$\\displaystyle \\left[\\begin{matrix}1 & 2 & 3\\\\x & \\sqrt{2} & x + \\sqrt{2}\\end{matrix}\\right]$"
      ],
      "text/plain": [
       "⎡1  2     3   ⎤\n",
       "⎢             ⎥\n",
       "⎣x  √2  x + √2⎦"
      ]
     },
     "execution_count": 229,
     "metadata": {},
     "output_type": "execute_result"
    }
   ],
   "source": [
    "_.subs(t,sqrt(2))"
   ]
  },
  {
   "cell_type": "code",
   "execution_count": 230,
   "id": "0e641bce",
   "metadata": {},
   "outputs": [
    {
     "name": "stdout",
     "output_type": "stream",
     "text": [
      "⎡2  3⎤\n",
      "⎢    ⎥\n",
      "⎣1  2⎦\n"
     ]
    },
    {
     "data": {
      "image/png": "[encoded data removed]",
      "text/latex": [
       "$\\displaystyle \\left[\\begin{matrix}2 & 3\\\\1 & 2\\end{matrix}\\right]$"
      ],
      "text/plain": [
       "⎡2  3⎤\n",
       "⎢    ⎥\n",
       "⎣1  2⎦"
      ]
     },
     "execution_count": 230,
     "metadata": {},
     "output_type": "execute_result"
    }
   ],
   "source": [
    "# pprint\n",
    "\n",
    "A = Matrix([[2,3],[1,2]])\n",
    "# print(A)\n",
    "pprint(A)\n",
    "A"
   ]
  },
  {
   "cell_type": "code",
   "execution_count": 231,
   "id": "f811b275",
   "metadata": {},
   "outputs": [
    {
     "data": {
      "image/png": "[encoded data removed]",
      "text/latex": [
       "$\\displaystyle \\left[\\begin{matrix}1 & -1\\\\3 & 5\\end{matrix}\\right]$"
      ],
      "text/plain": [
       "⎡1  -1⎤\n",
       "⎢     ⎥\n",
       "⎣3  5 ⎦"
      ]
     },
     "execution_count": 231,
     "metadata": {},
     "output_type": "execute_result"
    }
   ],
   "source": [
    "B = Matrix(2,2,[1, -1, 3, 5])\n",
    "B"
   ]
  },
  {
   "cell_type": "markdown",
   "id": "3f2c02a4",
   "metadata": {},
   "source": [
    "________________"
   ]
  },
  {
   "cell_type": "code",
   "execution_count": 232,
   "id": "6277a6b4",
   "metadata": {},
   "outputs": [
    {
     "name": "stdout",
     "output_type": "stream",
     "text": [
      "⎡3  2⎤\n",
      "⎢    ⎥\n",
      "⎣4  7⎦\n"
     ]
    },
    {
     "data": {
      "image/png": "[encoded data removed]",
      "text/latex": [
       "$\\displaystyle \\left[\\begin{matrix}1 & 4\\\\-2 & -3\\end{matrix}\\right]$"
      ],
      "text/plain": [
       "⎡1   4 ⎤\n",
       "⎢      ⎥\n",
       "⎣-2  -3⎦"
      ]
     },
     "execution_count": 232,
     "metadata": {},
     "output_type": "execute_result"
    }
   ],
   "source": [
    "# Matrix Addition, Subtraction\n",
    "\n",
    "pprint(A + B)\n",
    "A - B"
   ]
  },
  {
   "cell_type": "code",
   "execution_count": 233,
   "id": "92ed4b43",
   "metadata": {},
   "outputs": [
    {
     "data": {
      "image/png": "[encoded data removed]",
      "text/latex": [
       "$\\displaystyle \\left[\\begin{matrix}6 & 9\\\\3 & 6\\end{matrix}\\right]$"
      ],
      "text/plain": [
       "⎡6  9⎤\n",
       "⎢    ⎥\n",
       "⎣3  6⎦"
      ]
     },
     "execution_count": 233,
     "metadata": {},
     "output_type": "execute_result"
    }
   ],
   "source": [
    "3*A  # Scalar Multiplication"
   ]
  },
  {
   "cell_type": "code",
   "execution_count": 234,
   "id": "345920da",
   "metadata": {},
   "outputs": [
    {
     "data": {
      "image/png": "[encoded data removed]",
      "text/latex": [
       "$\\displaystyle \\left[\\begin{matrix}7 & 12\\\\4 & 7\\end{matrix}\\right]$"
      ],
      "text/plain": [
       "⎡7  12⎤\n",
       "⎢     ⎥\n",
       "⎣4  7 ⎦"
      ]
     },
     "execution_count": 234,
     "metadata": {},
     "output_type": "execute_result"
    }
   ],
   "source": [
    "A ** 2   # Power of a Matrix"
   ]
  },
  {
   "cell_type": "code",
   "execution_count": 235,
   "id": "67a0f03a",
   "metadata": {},
   "outputs": [
    {
     "data": {
      "image/png": "[encoded data removed]",
      "text/latex": [
       "$\\displaystyle \\left[\\begin{matrix}11 & 13\\\\7 & 9\\end{matrix}\\right]$"
      ],
      "text/plain": [
       "⎡11  13⎤\n",
       "⎢      ⎥\n",
       "⎣7   9 ⎦"
      ]
     },
     "execution_count": 235,
     "metadata": {},
     "output_type": "execute_result"
    }
   ],
   "source": [
    "A * B   # Matrix Multiplication"
   ]
  },
  {
   "cell_type": "code",
   "execution_count": 236,
   "id": "1234c6cf",
   "metadata": {
    "scrolled": false
   },
   "outputs": [
    {
     "data": {
      "image/png": "[encoded data removed]",
      "text/latex": [
       "$\\displaystyle \\left[\\begin{matrix}2 & -3\\\\3 & 10\\end{matrix}\\right]$"
      ],
      "text/plain": [
       "⎡2  -3⎤\n",
       "⎢     ⎥\n",
       "⎣3  10⎦"
      ]
     },
     "execution_count": 236,
     "metadata": {},
     "output_type": "execute_result"
    }
   ],
   "source": [
    "# Element wise Multiplication of Matrices\n",
    "\n",
    "matrix_multiply_elementwise(A,B)\n",
    "A.multiply_elementwise(B)"
   ]
  },
  {
   "cell_type": "code",
   "execution_count": 237,
   "id": "daf1e73b",
   "metadata": {},
   "outputs": [
    {
     "data": {
      "image/png": "[encoded data removed]",
      "text/latex": [
       "$\\displaystyle \\left[\\begin{matrix}1 & 2\\\\3 & 4\\end{matrix}\\right]$"
      ],
      "text/plain": [
       "⎡1  2⎤\n",
       "⎢    ⎥\n",
       "⎣3  4⎦"
      ]
     },
     "execution_count": 237,
     "metadata": {},
     "output_type": "execute_result"
    }
   ],
   "source": [
    "C = Matrix(2,2,[1,2,3,4])\n",
    "C"
   ]
  },
  {
   "cell_type": "code",
   "execution_count": 238,
   "id": "24d7b465",
   "metadata": {},
   "outputs": [
    {
     "data": {
      "image/png": "[encoded data removed]",
      "text/latex": [
       "$\\displaystyle -2$"
      ],
      "text/plain": [
       "-2"
      ]
     },
     "execution_count": 238,
     "metadata": {},
     "output_type": "execute_result"
    }
   ],
   "source": [
    "det(C)  # determinant"
   ]
  },
  {
   "cell_type": "code",
   "execution_count": 301,
   "id": "4d08f665",
   "metadata": {},
   "outputs": [
    {
     "data": {
      "image/png": "[encoded data removed]",
      "text/latex": [
       "$\\displaystyle \\left[\\begin{matrix}a & b & a\\\\c & d & a\\\\d & c & a\\end{matrix}\\right]$"
      ],
      "text/plain": [
       "⎡a  b  a⎤\n",
       "⎢       ⎥\n",
       "⎢c  d  a⎥\n",
       "⎢       ⎥\n",
       "⎣d  c  a⎦"
      ]
     },
     "execution_count": 301,
     "metadata": {},
     "output_type": "execute_result"
    }
   ],
   "source": [
    "a, b, c, d = symbols('a b c d')\n",
    "D = Matrix([[a,b, a],[c,d, a],[d, c, a]])\n",
    "D"
   ]
  },
  {
   "cell_type": "code",
   "execution_count": 302,
   "id": "5ed5d02c",
   "metadata": {},
   "outputs": [
    {
     "data": {
      "image/png": "[encoded data removed]",
      "text/latex": [
       "$\\displaystyle - a^{2} c + a^{2} d - a b c + a b d + a c^{2} - a d^{2}$"
      ],
      "text/plain": [
       "   2      2                        2      2\n",
       "- a ⋅c + a ⋅d - a⋅b⋅c + a⋅b⋅d + a⋅c  - a⋅d "
      ]
     },
     "execution_count": 302,
     "metadata": {},
     "output_type": "execute_result"
    }
   ],
   "source": [
    "D.det()  # determinant"
   ]
  },
  {
   "cell_type": "markdown",
   "id": "46d66594",
   "metadata": {},
   "source": [
    "_______"
   ]
  },
  {
   "cell_type": "code",
   "execution_count": 241,
   "id": "02b1817b",
   "metadata": {},
   "outputs": [
    {
     "data": {
      "image/png": "[encoded data removed]",
      "text/latex": [
       "$\\displaystyle \\left[\\begin{matrix}4 & 0 & 0\\\\0 & 3 & 0\\\\0 & 0 & 3\\end{matrix}\\right]$"
      ],
      "text/plain": [
       "⎡4  0  0⎤\n",
       "⎢       ⎥\n",
       "⎢0  3  0⎥\n",
       "⎢       ⎥\n",
       "⎣0  0  3⎦"
      ]
     },
     "execution_count": 241,
     "metadata": {},
     "output_type": "execute_result"
    }
   ],
   "source": [
    "M = Matrix(3,3,[4,0,0,0,3,0,0,0,3])\n",
    "M"
   ]
  },
  {
   "cell_type": "code",
   "execution_count": 242,
   "id": "1a64be77",
   "metadata": {},
   "outputs": [
    {
     "data": {
      "image/png": "[encoded data removed]",
      "text/latex": [
       "$\\displaystyle \\left\\{ 3 : 2, \\  4 : 1\\right\\}$"
      ],
      "text/plain": [
       "{3: 2, 4: 1}"
      ]
     },
     "execution_count": 242,
     "metadata": {},
     "output_type": "execute_result"
    }
   ],
   "source": [
    "M.eigenvals()      # finding EIGEN VALUES"
   ]
  },
  {
   "cell_type": "code",
   "execution_count": 303,
   "id": "6931fd8e",
   "metadata": {},
   "outputs": [
    {
     "data": {
      "image/png": "[encoded data removed]",
      "text/latex": [
       "$\\displaystyle \\left[ \\left( 3, \\  2, \\  \\left[ \\left[\\begin{matrix}0\\\\1\\\\0\\end{matrix}\\right], \\  \\left[\\begin{matrix}0\\\\0\\\\1\\end{matrix}\\right]\\right]\\right), \\  \\left( 4, \\  1, \\  \\left[ \\left[\\begin{matrix}1\\\\0\\\\0\\end{matrix}\\right]\\right]\\right)\\right]$"
      ],
      "text/plain": [
       "⎡⎛      ⎡⎡0⎤  ⎡0⎤⎤⎞  ⎛      ⎡⎡1⎤⎤⎞⎤\n",
       "⎢⎜      ⎢⎢ ⎥  ⎢ ⎥⎥⎟  ⎜      ⎢⎢ ⎥⎥⎟⎥\n",
       "⎢⎜3, 2, ⎢⎢1⎥, ⎢0⎥⎥⎟, ⎜4, 1, ⎢⎢0⎥⎥⎟⎥\n",
       "⎢⎜      ⎢⎢ ⎥  ⎢ ⎥⎥⎟  ⎜      ⎢⎢ ⎥⎥⎟⎥\n",
       "⎣⎝      ⎣⎣0⎦  ⎣1⎦⎦⎠  ⎝      ⎣⎣0⎦⎦⎠⎦"
      ]
     },
     "execution_count": 303,
     "metadata": {},
     "output_type": "execute_result"
    }
   ],
   "source": [
    "M.eigenvects()   # finding EIGEN VECTORS"
   ]
  },
  {
   "cell_type": "code",
   "execution_count": 305,
   "id": "19a58895",
   "metadata": {
    "scrolled": true
   },
   "outputs": [
    {
     "data": {
      "image/png": "[encoded data removed]",
      "text/latex": [
       "$\\displaystyle \\left( \\left[\\begin{matrix}3 & 0 & 0\\\\0 & 3 & 0\\\\0 & 0 & 4\\end{matrix}\\right], \\  \\left[\\begin{matrix}0 & 0 & 1\\\\1 & 0 & 0\\\\0 & 1 & 0\\end{matrix}\\right]\\right)$"
      ],
      "text/plain": [
       "⎛⎡3  0  0⎤  ⎡0  0  1⎤⎞\n",
       "⎜⎢       ⎥  ⎢       ⎥⎟\n",
       "⎜⎢0  3  0⎥, ⎢1  0  0⎥⎟\n",
       "⎜⎢       ⎥  ⎢       ⎥⎟\n",
       "⎝⎣0  0  4⎦  ⎣0  1  0⎦⎠"
      ]
     },
     "execution_count": 305,
     "metadata": {},
     "output_type": "execute_result"
    }
   ],
   "source": [
    "# Diagonalisation\n",
    "\n",
    "P, D = M.diagonalize()\n",
    "D, P"
   ]
  },
  {
   "cell_type": "code",
   "execution_count": 308,
   "id": "b2172493",
   "metadata": {},
   "outputs": [
    {
     "name": "stdout",
     "output_type": "stream",
     "text": [
      "PurePoly(lamda**3 - 10*lamda**2 + 33*lamda - 36, lamda, domain='ZZ')\n"
     ]
    },
    {
     "data": {
      "image/png": "[encoded data removed]",
      "text/latex": [
       "$\\displaystyle \\left(\\lambda - 4\\right) \\left(\\lambda - 3\\right)^{2}$"
      ],
      "text/plain": [
       "               2\n",
       "(λ - 4)⋅(λ - 3) "
      ]
     },
     "execution_count": 308,
     "metadata": {},
     "output_type": "execute_result"
    }
   ],
   "source": [
    "# characteristics polynomial\n",
    "\n",
    "l = symbols('lamda')\n",
    "p = M.charpoly(l)\n",
    "pprint(p)\n",
    "factor(p.as_expr())"
   ]
  },
  {
   "cell_type": "code",
   "execution_count": 246,
   "id": "9504adaf",
   "metadata": {
    "scrolled": true
   },
   "outputs": [
    {
     "name": "stdout",
     "output_type": "stream",
     "text": [
      "⎡⎡-2⎤  ⎡0⎤⎤\n",
      "⎢⎢  ⎥  ⎢ ⎥⎥\n",
      "⎢⎢1 ⎥, ⎢0⎥⎥\n",
      "⎢⎢  ⎥  ⎢ ⎥⎥\n",
      "⎣⎣0 ⎦  ⎣1⎦⎦\n"
     ]
    }
   ],
   "source": [
    "M1 = Matrix(\n",
    "    [[1, 2, 0],\n",
    "     [2, 4, 0],\n",
    "     [2, 4, 0]])\n",
    "M1\n",
    "pprint(M1.nullspace())"
   ]
  },
  {
   "cell_type": "code",
   "execution_count": 247,
   "id": "fa1ba79b",
   "metadata": {
    "scrolled": true
   },
   "outputs": [
    {
     "data": {
      "image/png": "[encoded data removed]",
      "text/latex": [
       "$\\displaystyle \\left[ \\left[\\begin{matrix}1\\\\2\\\\2\\end{matrix}\\right]\\right]$"
      ],
      "text/plain": [
       "⎡⎡1⎤⎤\n",
       "⎢⎢ ⎥⎥\n",
       "⎢⎢2⎥⎥\n",
       "⎢⎢ ⎥⎥\n",
       "⎣⎣2⎦⎦"
      ]
     },
     "execution_count": 247,
     "metadata": {},
     "output_type": "execute_result"
    }
   ],
   "source": [
    "M1.columnspace()"
   ]
  },
  {
   "cell_type": "code",
   "execution_count": 248,
   "id": "6c82efb8",
   "metadata": {},
   "outputs": [
    {
     "data": {
      "image/png": "[encoded data removed]",
      "text/latex": [
       "$\\displaystyle 1$"
      ],
      "text/plain": [
       "1"
      ]
     },
     "execution_count": 248,
     "metadata": {},
     "output_type": "execute_result"
    }
   ],
   "source": [
    "rank = M1.rank()  # finding the rank of a Matrix\n",
    "rank"
   ]
  },
  {
   "cell_type": "code",
   "execution_count": 249,
   "id": "a256311f",
   "metadata": {},
   "outputs": [
    {
     "data": {
      "image/png": "[encoded data removed]",
      "text/latex": [
       "$\\displaystyle 2$"
      ],
      "text/plain": [
       "2"
      ]
     },
     "execution_count": 249,
     "metadata": {},
     "output_type": "execute_result"
    }
   ],
   "source": [
    "# finding the Nullity of a Matrix\n",
    "\n",
    "n = M1.shape[0] # dim of the matrix\n",
    "nullity = n - rank\n",
    "nullity"
   ]
  },
  {
   "cell_type": "code",
   "execution_count": 250,
   "id": "24513817",
   "metadata": {},
   "outputs": [
    {
     "name": "stdout",
     "output_type": "stream",
     "text": [
      "⎛⎡1  0  0⎤           ⎞\n",
      "⎜⎢       ⎥           ⎟\n",
      "⎜⎢0  1  0⎥, (0, 1, 2)⎟\n",
      "⎜⎢       ⎥           ⎟\n",
      "⎝⎣0  0  1⎦           ⎠\n"
     ]
    }
   ],
   "source": [
    "# rref form of a matrix\n",
    "\n",
    "pprint(M.rref())"
   ]
  },
  {
   "cell_type": "markdown",
   "id": "b4dc4637",
   "metadata": {},
   "source": [
    "____________________________________"
   ]
  },
  {
   "cell_type": "code",
   "execution_count": 251,
   "id": "934f1328",
   "metadata": {},
   "outputs": [],
   "source": [
    "from sympy.matrices import *"
   ]
  },
  {
   "cell_type": "code",
   "execution_count": 252,
   "id": "6dfd8024",
   "metadata": {},
   "outputs": [
    {
     "data": {
      "image/png": "[encoded data removed]",
      "text/latex": [
       "$\\displaystyle \\left[\\begin{matrix}1 & 0 & 0\\\\0 & 1 & 0\\\\0 & 0 & 1\\end{matrix}\\right]$"
      ],
      "text/plain": [
       "⎡1  0  0⎤\n",
       "⎢       ⎥\n",
       "⎢0  1  0⎥\n",
       "⎢       ⎥\n",
       "⎣0  0  1⎦"
      ]
     },
     "execution_count": 252,
     "metadata": {},
     "output_type": "execute_result"
    }
   ],
   "source": [
    "eye(3)  # identity matrix of dim 3"
   ]
  },
  {
   "cell_type": "code",
   "execution_count": 253,
   "id": "82c73c37",
   "metadata": {
    "scrolled": true
   },
   "outputs": [
    {
     "data": {
      "image/png": "[encoded data removed]",
      "text/latex": [
       "$\\displaystyle \\left[\\begin{matrix}1 & 0\\\\0 & 1\\\\0 & 0\\end{matrix}\\right]$"
      ],
      "text/plain": [
       "⎡1  0⎤\n",
       "⎢    ⎥\n",
       "⎢0  1⎥\n",
       "⎢    ⎥\n",
       "⎣0  0⎦"
      ]
     },
     "execution_count": 253,
     "metadata": {},
     "output_type": "execute_result"
    }
   ],
   "source": [
    "eye(3,2)"
   ]
  },
  {
   "cell_type": "code",
   "execution_count": 254,
   "id": "80de13bb",
   "metadata": {
    "scrolled": true
   },
   "outputs": [
    {
     "data": {
      "image/png": "[encoded data removed]",
      "text/latex": [
       "$\\displaystyle \\left[\\begin{matrix}1 & 1 & 1 & 1 & 1\\\\1 & 1 & 1 & 1 & 1\\\\1 & 1 & 1 & 1 & 1\\end{matrix}\\right]$"
      ],
      "text/plain": [
       "⎡1  1  1  1  1⎤\n",
       "⎢             ⎥\n",
       "⎢1  1  1  1  1⎥\n",
       "⎢             ⎥\n",
       "⎣1  1  1  1  1⎦"
      ]
     },
     "execution_count": 254,
     "metadata": {},
     "output_type": "execute_result"
    }
   ],
   "source": [
    "ones(3,5)  # matrix with all elements = 1"
   ]
  },
  {
   "cell_type": "code",
   "execution_count": 255,
   "id": "396247bc",
   "metadata": {},
   "outputs": [
    {
     "data": {
      "image/png": "[encoded data removed]",
      "text/latex": [
       "$\\displaystyle \\left[\\begin{matrix}0 & 0 & 0\\\\0 & 0 & 0\\end{matrix}\\right]$"
      ],
      "text/plain": [
       "⎡0  0  0⎤\n",
       "⎢       ⎥\n",
       "⎣0  0  0⎦"
      ]
     },
     "execution_count": 255,
     "metadata": {},
     "output_type": "execute_result"
    }
   ],
   "source": [
    "zeros(2,3)  # matrix with all elements = 0"
   ]
  },
  {
   "cell_type": "code",
   "execution_count": 256,
   "id": "595da034",
   "metadata": {},
   "outputs": [
    {
     "data": {
      "image/png": "[encoded data removed]",
      "text/latex": [
       "$\\displaystyle \\left[\\begin{matrix}8 & 4 & 9\\\\-1 & 4 & -1\\end{matrix}\\right]$"
      ],
      "text/plain": [
       "⎡8   4  9 ⎤\n",
       "⎢         ⎥\n",
       "⎣-1  4  -1⎦"
      ]
     },
     "execution_count": 256,
     "metadata": {},
     "output_type": "execute_result"
    }
   ],
   "source": [
    "randMatrix(2,3)  # random matrix with given shape\n",
    "randMatrix(2,3, max = 12, min = -3)"
   ]
  },
  {
   "cell_type": "code",
   "execution_count": 257,
   "id": "504d7015",
   "metadata": {},
   "outputs": [
    {
     "data": {
      "image/png": "[encoded data removed]",
      "text/latex": [
       "$\\displaystyle \\left[\\begin{matrix}1 & 0 & 0\\\\0 & 2 & 0\\\\0 & 0 & 3\\end{matrix}\\right]$"
      ],
      "text/plain": [
       "⎡1  0  0⎤\n",
       "⎢       ⎥\n",
       "⎢0  2  0⎥\n",
       "⎢       ⎥\n",
       "⎣0  0  3⎦"
      ]
     },
     "execution_count": 257,
     "metadata": {},
     "output_type": "execute_result"
    }
   ],
   "source": [
    "diag(1,2,3)   # diagonal matrix with given entries"
   ]
  },
  {
   "cell_type": "code",
   "execution_count": 258,
   "id": "10541684",
   "metadata": {},
   "outputs": [
    {
     "data": {
      "image/png": "[encoded data removed]",
      "text/latex": [
       "$\\displaystyle \\left[\\begin{matrix}5 & 0 & 0 & 0 & 0 & 0\\\\0 & 1 & 1 & 1 & 0 & 0\\\\0 & 1 & 1 & 1 & 0 & 0\\\\0 & 0 & 0 & 0 & 1 & 0\\\\0 & 0 & 0 & 0 & 0 & 1\\\\0 & 0 & 0 & 0 & 0 & 0\\end{matrix}\\right]$"
      ],
      "text/plain": [
       "⎡5  0  0  0  0  0⎤\n",
       "⎢                ⎥\n",
       "⎢0  1  1  1  0  0⎥\n",
       "⎢                ⎥\n",
       "⎢0  1  1  1  0  0⎥\n",
       "⎢                ⎥\n",
       "⎢0  0  0  0  1  0⎥\n",
       "⎢                ⎥\n",
       "⎢0  0  0  0  0  1⎥\n",
       "⎢                ⎥\n",
       "⎣0  0  0  0  0  0⎦"
      ]
     },
     "execution_count": 258,
     "metadata": {},
     "output_type": "execute_result"
    }
   ],
   "source": [
    "diag(5,ones(2,3),eye(3,2))"
   ]
  },
  {
   "cell_type": "markdown",
   "id": "7320f0f3",
   "metadata": {},
   "source": [
    "### Complex Numbers"
   ]
  },
  {
   "cell_type": "code",
   "execution_count": 259,
   "id": "fbf8a810",
   "metadata": {},
   "outputs": [
    {
     "data": {
      "image/png": "[encoded data removed]",
      "text/latex": [
       "$\\displaystyle \\left[ -2, \\  2\\right]$"
      ],
      "text/plain": [
       "[-2, 2]"
      ]
     },
     "execution_count": 259,
     "metadata": {},
     "output_type": "execute_result"
    }
   ],
   "source": [
    "x, y = symbols('x y', real = True)\n",
    "solve(abs(x) -2) # solving real equation"
   ]
  },
  {
   "cell_type": "code",
   "execution_count": 260,
   "id": "f5521977",
   "metadata": {},
   "outputs": [
    {
     "data": {
      "image/png": "[encoded data removed]",
      "text/latex": [
       "$\\displaystyle x + i y$"
      ],
      "text/plain": [
       "x + ⅈ⋅y"
      ]
     },
     "execution_count": 260,
     "metadata": {},
     "output_type": "execute_result"
    }
   ],
   "source": [
    "z = x + y*I\n",
    "z  # complex number"
   ]
  },
  {
   "cell_type": "code",
   "execution_count": 261,
   "id": "15b3d930",
   "metadata": {},
   "outputs": [
    {
     "data": {
      "image/png": "[encoded data removed]",
      "text/latex": [
       "$\\displaystyle \\sqrt{x^{2} + y^{2}}$"
      ],
      "text/plain": [
       "   _________\n",
       "  ╱  2    2 \n",
       "╲╱  x  + y  "
      ]
     },
     "execution_count": 261,
     "metadata": {},
     "output_type": "execute_result"
    }
   ],
   "source": [
    "abs(z)     # modulus of a complex number"
   ]
  },
  {
   "cell_type": "code",
   "execution_count": 262,
   "id": "ef6068b7",
   "metadata": {},
   "outputs": [
    {
     "data": {
      "image/png": "[encoded data removed]",
      "text/latex": [
       "$\\displaystyle \\frac{\\pi}{4}$"
      ],
      "text/plain": [
       "π\n",
       "─\n",
       "4"
      ]
     },
     "execution_count": 262,
     "metadata": {},
     "output_type": "execute_result"
    }
   ],
   "source": [
    "arg(1 + I)   # argument of a given complex no."
   ]
  },
  {
   "cell_type": "code",
   "execution_count": 263,
   "id": "bc753d9f",
   "metadata": {},
   "outputs": [
    {
     "data": {
      "image/png": "[encoded data removed]",
      "text/latex": [
       "$\\displaystyle x - i y$"
      ],
      "text/plain": [
       "x - ⅈ⋅y"
      ]
     },
     "execution_count": 263,
     "metadata": {},
     "output_type": "execute_result"
    }
   ],
   "source": [
    "conjugate(z)   # conjugate of a complex no."
   ]
  },
  {
   "cell_type": "code",
   "execution_count": 264,
   "id": "00cff61f",
   "metadata": {},
   "outputs": [
    {
     "data": {
      "image/png": "[encoded data removed]",
      "text/latex": [
       "$\\displaystyle 2 x^{2} + 4 i x y - 2 y^{2}$"
      ],
      "text/plain": [
       "   2                2\n",
       "2⋅x  + 4⋅ⅈ⋅x⋅y - 2⋅y "
      ]
     },
     "execution_count": 264,
     "metadata": {},
     "output_type": "execute_result"
    }
   ],
   "source": [
    "(2*z**2).expand()   # expanding a function of complex no."
   ]
  },
  {
   "cell_type": "code",
   "execution_count": 310,
   "id": "012bcda9",
   "metadata": {},
   "outputs": [
    {
     "data": {
      "image/png": "[encoded data removed]",
      "text/latex": [
       "$\\displaystyle \\left( x^{2} - y^{2}, \\  2 x y\\right)$"
      ],
      "text/plain": [
       "⎛ 2    2       ⎞\n",
       "⎝x  - y , 2⋅x⋅y⎠"
      ]
     },
     "execution_count": 310,
     "metadata": {},
     "output_type": "execute_result"
    }
   ],
   "source": [
    "re(z**2), im(z**2)   # real & imaginary part of complex number"
   ]
  },
  {
   "cell_type": "code",
   "execution_count": 266,
   "id": "7075ccb2",
   "metadata": {},
   "outputs": [
    {
     "data": {
      "image/png": "[encoded data removed]",
      "text/latex": [
       "$\\displaystyle 4 e^{0}$"
      ],
      "text/plain": [
       "   0\n",
       "4⋅ℯ "
      ]
     },
     "execution_count": 266,
     "metadata": {},
     "output_type": "execute_result"
    }
   ],
   "source": [
    "polar_lift(4)   # polar form of a given no."
   ]
  },
  {
   "cell_type": "code",
   "execution_count": 267,
   "id": "cf0eabf7",
   "metadata": {},
   "outputs": [
    {
     "data": {
      "image/png": "[encoded data removed]",
      "text/latex": [
       "$\\displaystyle 2 e^{- \\frac{i \\pi}{2}}$"
      ],
      "text/plain": [
       "   -ⅈ⋅π \n",
       "   ─────\n",
       "     2  \n",
       "2⋅ℯ     "
      ]
     },
     "execution_count": 267,
     "metadata": {},
     "output_type": "execute_result"
    }
   ],
   "source": [
    "polar_lift(-2*I)"
   ]
  },
  {
   "cell_type": "code",
   "execution_count": 268,
   "id": "7bdf2637",
   "metadata": {},
   "outputs": [
    {
     "data": {
      "image/png": "[encoded data removed]",
      "text/latex": [
       "$\\displaystyle e^{i \\pi}$"
      ],
      "text/plain": [
       " ⅈ⋅π\n",
       "ℯ   "
      ]
     },
     "execution_count": 268,
     "metadata": {},
     "output_type": "execute_result"
    }
   ],
   "source": [
    "exp_polar(pi*I)"
   ]
  },
  {
   "cell_type": "code",
   "execution_count": 269,
   "id": "323d3e68",
   "metadata": {},
   "outputs": [
    {
     "data": {
      "image/png": "[encoded data removed]",
      "text/latex": [
       "$\\displaystyle 0$"
      ],
      "text/plain": [
       "0"
      ]
     },
     "execution_count": 269,
     "metadata": {},
     "output_type": "execute_result"
    }
   ],
   "source": [
    "periodic_argument(exp_polar(pi*I), pi)    # *unclear*"
   ]
  },
  {
   "cell_type": "markdown",
   "id": "13029a61",
   "metadata": {},
   "source": [
    "### Domain and Range of a Function"
   ]
  },
  {
   "cell_type": "code",
   "execution_count": 270,
   "id": "46efaba3",
   "metadata": {},
   "outputs": [],
   "source": [
    "from sympy.calculus.util import continuous_domain, function_range"
   ]
  },
  {
   "cell_type": "code",
   "execution_count": 271,
   "id": "2e907254",
   "metadata": {},
   "outputs": [
    {
     "data": {
      "image/png": "[encoded data removed]",
      "text/latex": [
       "$\\displaystyle \\left(-\\infty, 0\\right) \\cup \\left(0, \\infty\\right)$"
      ],
      "text/plain": [
       "(-∞, 0) ∪ (0, ∞)"
      ]
     },
     "execution_count": 271,
     "metadata": {},
     "output_type": "execute_result"
    }
   ],
   "source": [
    "f = sin(x) / x\n",
    "continuous_domain(f, x, S.Reals)      # domain of a function"
   ]
  },
  {
   "cell_type": "code",
   "execution_count": 272,
   "id": "f249121f",
   "metadata": {},
   "outputs": [
    {
     "data": {
      "image/png": "[encoded data removed]",
      "text/latex": [
       "$\\displaystyle \\left(-\\infty, 1\\right) \\cup \\left(1, \\infty\\right)$"
      ],
      "text/plain": [
       "(-∞, 1) ∪ (1, ∞)"
      ]
     },
     "execution_count": 272,
     "metadata": {},
     "output_type": "execute_result"
    }
   ],
   "source": [
    "function_range(1 + 1/x, x, S.Reals)   # range of a function"
   ]
  },
  {
   "cell_type": "code",
   "execution_count": 273,
   "id": "20f68304",
   "metadata": {},
   "outputs": [],
   "source": [
    "a = symbols('a', real = False)"
   ]
  },
  {
   "cell_type": "code",
   "execution_count": 274,
   "id": "b405c9d6",
   "metadata": {},
   "outputs": [
    {
     "data": {
      "image/png": "[encoded data removed]",
      "text/latex": [
       "$\\displaystyle \\left\\{x^{2}\\; \\middle|\\; x \\in \\mathbb{C}\\right\\}$"
      ],
      "text/plain": [
       "⎧ 2 │      ⎫\n",
       "⎨x  │ x ∊ ℂ⎬\n",
       "⎩   │      ⎭"
      ]
     },
     "execution_count": 274,
     "metadata": {},
     "output_type": "execute_result"
    }
   ],
   "source": [
    "ImageSet(Lambda(x, x**2), S.Complexes)"
   ]
  },
  {
   "cell_type": "code",
   "execution_count": 275,
   "id": "364af53e",
   "metadata": {},
   "outputs": [
    {
     "data": {
      "image/png": "[encoded data removed]",
      "text/latex": [
       "$\\displaystyle \\left[0, 4\\right)$"
      ],
      "text/plain": [
       "[0, 4)"
      ]
     },
     "execution_count": 275,
     "metadata": {},
     "output_type": "execute_result"
    }
   ],
   "source": [
    "function_range(x**2, x, Interval.open(-2,2))"
   ]
  },
  {
   "cell_type": "code",
   "execution_count": 276,
   "id": "ee1fde7a",
   "metadata": {},
   "outputs": [
    {
     "data": {
      "image/png": "[encoded data removed]",
      "text/latex": [
       "$\\displaystyle \\left\\{x\\; \\middle|\\; x \\in \\mathbb{C} \\wedge \\sin{\\left(x \\right)} = 0 \\right\\}$"
      ],
      "text/plain": [
       "{x │ x ∊ ℂ ∧ (sin(x) = 0)}"
      ]
     },
     "execution_count": 276,
     "metadata": {},
     "output_type": "execute_result"
    }
   ],
   "source": [
    "from sympy.solvers.solveset import _transolve as transolve\n",
    "transolve(sin(x), x, S.Complexes)"
   ]
  },
  {
   "cell_type": "code",
   "execution_count": 277,
   "id": "4951a143",
   "metadata": {},
   "outputs": [
    {
     "data": {
      "image/png": "[encoded data removed]",
      "text/latex": [
       "$\\displaystyle \\left\\{x + y i\\; \\middle|\\; x, y \\in \\left[2, 3\\right] \\times \\left[1, 2\\right] \\right\\}$"
      ],
      "text/plain": [
       "{x + y⋅ⅈ │ x, y ∊ [2, 3] × [1, 2]}"
      ]
     },
     "execution_count": 277,
     "metadata": {},
     "output_type": "execute_result"
    }
   ],
   "source": [
    "c = ComplexRegion(Interval(2,3) * Interval(1,2))\n",
    "c"
   ]
  },
  {
   "cell_type": "code",
   "execution_count": 278,
   "id": "bca52f34",
   "metadata": {},
   "outputs": [
    {
     "data": {
      "image/png": "[encoded data removed]",
      "text/latex": [
       "$\\displaystyle \\left\\{x^{2}\\; \\middle|\\; x \\in \\left\\{x + y i\\; \\middle|\\; x, y \\in \\left[2, 3\\right] \\times \\left[1, 2\\right] \\right\\}\\right\\}$"
      ],
      "text/plain": [
       "⎧ 2 │                                       ⎫\n",
       "⎨x  │ x ∊ {x + y⋅ⅈ │ x, y ∊ [2, 3] × [1, 2]}⎬\n",
       "⎩   │                                       ⎭"
      ]
     },
     "execution_count": 278,
     "metadata": {},
     "output_type": "execute_result"
    }
   ],
   "source": [
    "g = x**2\n",
    "ImageSet(Lambda(x,x**2), c)"
   ]
  },
  {
   "cell_type": "code",
   "execution_count": 279,
   "id": "6845b45b",
   "metadata": {},
   "outputs": [
    {
     "data": {
      "image/png": "[encoded data removed]",
      "text/latex": [
       "$\\displaystyle \\left\\{x\\; \\middle|\\; x \\in \\left(- 3 \\pi, 4 \\pi\\right] \\wedge \\sin{\\left(x \\right)} = 0 \\right\\}$"
      ],
      "text/plain": [
       "{x │ x ∊ (-3⋅π, 4⋅π] ∧ (sin(x) = 0)}"
      ]
     },
     "execution_count": 279,
     "metadata": {},
     "output_type": "execute_result"
    }
   ],
   "source": [
    "ConditionSet(x, Eq(sin(x), 0), Interval.Lopen(-3*pi,4*pi))"
   ]
  },
  {
   "cell_type": "code",
   "execution_count": 280,
   "id": "5ce6813d",
   "metadata": {
    "scrolled": true
   },
   "outputs": [
    {
     "data": {
      "image/png": "[encoded data removed]",
      "text/latex": [
       "$\\displaystyle \\left\\{-2, 2, - 2 i, 2 i\\right\\}$"
      ],
      "text/plain": [
       "{-2, 2, -2⋅ⅈ, 2⋅ⅈ}"
      ]
     },
     "execution_count": 280,
     "metadata": {},
     "output_type": "execute_result"
    }
   ],
   "source": [
    "singularities(1/(z**4-16), z)"
   ]
  },
  {
   "cell_type": "code",
   "execution_count": null,
   "id": "66df6182",
   "metadata": {},
   "outputs": [],
   "source": [
    "d = solve(x**2 < 4)     # return 'AND' type value: a mathematical interval (relational type)\n",
    "\n",
    "d = d.as_set()          # transform into a set (interval set)\n",
    "\n",
    "l = list(d.boundary)    # finding the boundary of this set (interval)\n",
    "\n",
    "np.random.uniform(min(l), max(l))    # generate a number randomly from this interval"
   ]
  },
  {
   "cell_type": "code",
   "execution_count": null,
   "id": "a4366bbc",
   "metadata": {},
   "outputs": [],
   "source": [
    "Interval(1,2).as_relational(x)   # transform a interval to a relational type"
   ]
  },
  {
   "cell_type": "markdown",
   "id": "c1fe7f57",
   "metadata": {},
   "source": [
    "### Unit and Unit Conversion"
   ]
  },
  {
   "cell_type": "code",
   "execution_count": 281,
   "id": "2515c741",
   "metadata": {},
   "outputs": [
    {
     "data": {
      "image/png": "[encoded data removed]",
      "text/latex": [
       "$\\displaystyle 5 \\text{cm}$"
      ],
      "text/plain": [
       "5⋅centimeter"
      ]
     },
     "execution_count": 281,
     "metadata": {},
     "output_type": "execute_result"
    }
   ],
   "source": [
    "import sympy.physics.units as u\n",
    "5 * u.cm"
   ]
  },
  {
   "cell_type": "code",
   "execution_count": 282,
   "id": "7809ac5c",
   "metadata": {},
   "outputs": [
    {
     "data": {
      "text/plain": [
       "['m',\n",
       " 'au',\n",
       " 'cm',\n",
       " 'dm',\n",
       " 'ft',\n",
       " 'km',\n",
       " 'ly',\n",
       " 'mi',\n",
       " 'mm',\n",
       " 'nm',\n",
       " 'pm',\n",
       " 'um',\n",
       " 'yd',\n",
       " 'nmi',\n",
       " 'feet',\n",
       " 'foot',\n",
       " 'inch',\n",
       " 'mile',\n",
       " 'yard',\n",
       " 'meter',\n",
       " 'miles',\n",
       " 'yards',\n",
       " 'inches',\n",
       " 'meters',\n",
       " 'micron',\n",
       " 'microns',\n",
       " 'decimeter',\n",
       " 'kilometer',\n",
       " 'lightyear',\n",
       " 'nanometer',\n",
       " 'picometer',\n",
       " 'centimeter',\n",
       " 'decimeters',\n",
       " 'kilometers',\n",
       " 'lightyears',\n",
       " 'micrometer',\n",
       " 'millimeter',\n",
       " 'nanometers',\n",
       " 'picometers',\n",
       " 'centimeters',\n",
       " 'micrometers',\n",
       " 'millimeters',\n",
       " 'nautical_mile',\n",
       " 'planck_length',\n",
       " 'nautical_miles',\n",
       " 'astronomical_unit',\n",
       " 'astronomical_units']"
      ]
     },
     "execution_count": 282,
     "metadata": {},
     "output_type": "execute_result"
    }
   ],
   "source": [
    "u.find_unit('length') # finding the all units of length"
   ]
  },
  {
   "cell_type": "code",
   "execution_count": 283,
   "id": "3387871f",
   "metadata": {},
   "outputs": [
    {
     "data": {
      "text/plain": [
       "True"
      ]
     },
     "execution_count": 283,
     "metadata": {},
     "output_type": "execute_result"
    }
   ],
   "source": [
    "u.c == u.speed_of_light"
   ]
  },
  {
   "cell_type": "code",
   "execution_count": 284,
   "id": "093e8779",
   "metadata": {},
   "outputs": [
    {
     "data": {
      "image/png": "[encoded data removed]",
      "text/latex": [
       "$\\displaystyle 3 \\text{kg}$"
      ],
      "text/plain": [
       "3⋅kilogram"
      ]
     },
     "execution_count": 284,
     "metadata": {},
     "output_type": "execute_result"
    }
   ],
   "source": [
    "weight = 3 * u.kg\n",
    "weight"
   ]
  },
  {
   "cell_type": "code",
   "execution_count": 285,
   "id": "16f19501",
   "metadata": {},
   "outputs": [
    {
     "data": {
      "image/png": "[encoded data removed]",
      "text/latex": [
       "$\\displaystyle 12 \\text{kg}$"
      ],
      "text/plain": [
       "12⋅kilogram"
      ]
     },
     "execution_count": 285,
     "metadata": {},
     "output_type": "execute_result"
    }
   ],
   "source": [
    "weight * 4"
   ]
  },
  {
   "cell_type": "code",
   "execution_count": 286,
   "id": "f9bc233b",
   "metadata": {},
   "outputs": [
    {
     "data": {
      "image/png": "[encoded data removed]",
      "text/latex": [
       "$\\displaystyle 450 \\text{g} + \\frac{9 \\text{kg}}{2}$"
      ],
      "text/plain": [
       "           9⋅kilogram\n",
       "450⋅gram + ──────────\n",
       "               2     "
      ]
     },
     "execution_count": 286,
     "metadata": {},
     "output_type": "execute_result"
    }
   ],
   "source": [
    "3 * u.kg + 450 * u.g + Rational(1.5) * u.kg"
   ]
  },
  {
   "cell_type": "code",
   "execution_count": 287,
   "id": "c49bbbfa",
   "metadata": {},
   "outputs": [
    {
     "data": {
      "image/png": "[encoded data removed]",
      "text/latex": [
       "$\\displaystyle 4950 \\text{g}$"
      ],
      "text/plain": [
       "4950⋅gram"
      ]
     },
     "execution_count": 287,
     "metadata": {},
     "output_type": "execute_result"
    }
   ],
   "source": [
    "_.simplify()"
   ]
  },
  {
   "cell_type": "code",
   "execution_count": 288,
   "id": "3783cf16",
   "metadata": {},
   "outputs": [
    {
     "data": {
      "image/png": "[encoded data removed]",
      "text/latex": [
       "$\\displaystyle 4.95 \\text{kg}$"
      ],
      "text/plain": [
       "4.95⋅kilogram"
      ]
     },
     "execution_count": 288,
     "metadata": {},
     "output_type": "execute_result"
    }
   ],
   "source": [
    "u.convert_to(_, u.kg).n()   # converting to another units"
   ]
  },
  {
   "cell_type": "code",
   "execution_count": 289,
   "id": "5351cefb",
   "metadata": {},
   "outputs": [
    {
     "data": {
      "image/png": "[encoded data removed]",
      "text/latex": [
       "$\\displaystyle 2.54 \\text{cm}$"
      ],
      "text/plain": [
       "2.54⋅centimeter"
      ]
     },
     "execution_count": 289,
     "metadata": {},
     "output_type": "execute_result"
    }
   ],
   "source": [
    "1 * u.inch.convert_to(u.cm).n()"
   ]
  },
  {
   "cell_type": "code",
   "execution_count": 311,
   "id": "794f287a",
   "metadata": {
    "scrolled": true
   },
   "outputs": [
    {
     "data": {
      "image/png": "[encoded data removed]",
      "text/latex": [
       "$\\displaystyle 72 \\text{hour}$"
      ],
      "text/plain": [
       "72⋅hour"
      ]
     },
     "execution_count": 311,
     "metadata": {},
     "output_type": "execute_result"
    }
   ],
   "source": [
    "3 * u.days.convert_to(u.hours)"
   ]
  },
  {
   "cell_type": "markdown",
   "id": "b975672f",
   "metadata": {},
   "source": [
    "### Rationalizing the Denominator with Sympy"
   ]
  },
  {
   "cell_type": "code",
   "execution_count": 291,
   "id": "282654f7",
   "metadata": {},
   "outputs": [
    {
     "data": {
      "image/png": "[encoded data removed]",
      "text/latex": [
       "$\\displaystyle \\frac{1}{5}$"
      ],
      "text/plain": [
       "1/5"
      ]
     },
     "execution_count": 291,
     "metadata": {},
     "output_type": "execute_result"
    }
   ],
   "source": [
    "Rational(1,5)"
   ]
  },
  {
   "cell_type": "code",
   "execution_count": 292,
   "id": "8e0dc17a",
   "metadata": {},
   "outputs": [
    {
     "data": {
      "image/png": "[encoded data removed]",
      "text/latex": [
       "$\\displaystyle -1 + \\sqrt{3}$"
      ],
      "text/plain": [
       "-1 + √3"
      ]
     },
     "execution_count": 292,
     "metadata": {},
     "output_type": "execute_result"
    }
   ],
   "source": [
    "simplify(2/(sqrt(3) + 1))"
   ]
  },
  {
   "cell_type": "code",
   "execution_count": 293,
   "id": "a6ff363b",
   "metadata": {},
   "outputs": [
    {
     "data": {
      "image/png": "[encoded data removed]",
      "text/latex": [
       "$\\displaystyle \\frac{3 - \\sqrt{3}}{6}$"
      ],
      "text/plain": [
       "3 - √3\n",
       "──────\n",
       "  6   "
      ]
     },
     "execution_count": 293,
     "metadata": {},
     "output_type": "execute_result"
    }
   ],
   "source": [
    "radsimp(1/(3 + sqrt(3)))"
   ]
  },
  {
   "cell_type": "markdown",
   "id": "7b42b672",
   "metadata": {},
   "source": [
    "### Ploting"
   ]
  },
  {
   "cell_type": "code",
   "execution_count": 316,
   "id": "8fcaa829",
   "metadata": {},
   "outputs": [
    {
     "data": {
      "image/png": "[encoded data removed]",
      "text/plain": [
       "<Figure size 432x288 with 1 Axes>"
      ]
     },
     "metadata": {
      "needs_background": "light"
     },
     "output_type": "display_data"
    },
    {
     "data": {
      "text/plain": [
       "<sympy.plotting.plot.Plot at 0x14262970>"
      ]
     },
     "execution_count": 316,
     "metadata": {},
     "output_type": "execute_result"
    }
   ],
   "source": [
    "plot(x**2, title = \"$ f(x) = x^2 + 2 $\")"
   ]
  },
  {
   "cell_type": "code",
   "execution_count": 295,
   "id": "06a37494",
   "metadata": {
    "scrolled": true
   },
   "outputs": [
    {
     "data": {
      "image/png": "[encoded data removed]",
      "text/plain": [
       "<Figure size 432x288 with 1 Axes>"
      ]
     },
     "metadata": {
      "needs_background": "light"
     },
     "output_type": "display_data"
    },
    {
     "data": {
      "text/plain": [
       "<sympy.plotting.plot.Plot at 0x127c87a8>"
      ]
     },
     "execution_count": 295,
     "metadata": {},
     "output_type": "execute_result"
    }
   ],
   "source": [
    "# plot two function in a single graph\n",
    "\n",
    "plot(x**2 + 3, 12*x)"
   ]
  },
  {
   "cell_type": "code",
   "execution_count": 296,
   "id": "f2f026ae",
   "metadata": {},
   "outputs": [],
   "source": [
    "from sympy.plotting import plot_implicit"
   ]
  },
  {
   "cell_type": "code",
   "execution_count": 322,
   "id": "f8a64a28",
   "metadata": {},
   "outputs": [
    {
     "data": {
      "image/png": "[encoded data removed]",
      "text/plain": [
       "<Figure size 432x288 with 1 Axes>"
      ]
     },
     "metadata": {
      "needs_background": "light"
     },
     "output_type": "display_data"
    },
    {
     "data": {
      "text/plain": [
       "<sympy.plotting.plot.Plot at 0x141debb0>"
      ]
     },
     "execution_count": 322,
     "metadata": {},
     "output_type": "execute_result"
    }
   ],
   "source": [
    "expr = (x**2 + y**2 < 4)\n",
    "plot_implicit(expr)"
   ]
  },
  {
   "cell_type": "code",
   "execution_count": 298,
   "id": "311288fe",
   "metadata": {},
   "outputs": [
    {
     "data": {
      "image/png": "[encoded data removed]",
      "text/plain": [
       "<Figure size 432x288 with 1 Axes>"
      ]
     },
     "metadata": {
      "needs_background": "light"
     },
     "output_type": "display_data"
    },
    {
     "data": {
      "text/plain": [
       "<sympy.plotting.plot.Plot at 0x1491688>"
      ]
     },
     "execution_count": 298,
     "metadata": {},
     "output_type": "execute_result"
    }
   ],
   "source": [
    "expr1 = (x > -1) & (y < 2)\n",
    "plot_implicit(expr1)"
   ]
  },
  {
   "cell_type": "markdown",
   "id": "a75fda8b",
   "metadata": {},
   "source": [
    "____________________________________________________________"
   ]
  },
  {
   "cell_type": "markdown",
   "id": "93a37417",
   "metadata": {},
   "source": [
    "# Calculus"
   ]
  },
  {
   "cell_type": "markdown",
   "id": "84cea4cb",
   "metadata": {},
   "source": [
    "### Limit"
   ]
  },
  {
   "cell_type": "markdown",
   "id": "17e29a48",
   "metadata": {},
   "source": [
    "Finding the following limit with the help of **Sympy**:\n",
    "$$\n",
    "    \\lim_{x \\to 0} \\frac {sin(x)}{x}\n",
    "$$"
   ]
  },
  {
   "cell_type": "code",
   "execution_count": 299,
   "id": "5a34842a",
   "metadata": {
    "scrolled": true
   },
   "outputs": [
    {
     "data": {
      "image/png": "[encoded data removed]",
      "text/latex": [
       "$\\displaystyle 1$"
      ],
      "text/plain": [
       "1"
      ]
     },
     "execution_count": 299,
     "metadata": {},
     "output_type": "execute_result"
    }
   ],
   "source": [
    "limit(sin(x)/x, x, 0)"
   ]
  },
  {
   "cell_type": "markdown",
   "id": "0931598f",
   "metadata": {},
   "source": [
    "$$\n",
    "    \\lim_{x \\to 0^+} \\frac {2e ^\\frac {1}{x} }{e ^\\frac {1}{x} + 1}\n",
    "$$"
   ]
  },
  {
   "cell_type": "code",
   "execution_count": null,
   "id": "6f922456",
   "metadata": {},
   "outputs": [],
   "source": [
    "import sympy as sp"
   ]
  },
  {
   "cell_type": "code",
   "execution_count": 330,
   "id": "384e4686",
   "metadata": {},
   "outputs": [
    {
     "data": {
      "image/png": "[encoded data removed]",
      "text/latex": [
       "$\\displaystyle 2$"
      ],
      "text/plain": [
       "2"
      ]
     },
     "execution_count": 330,
     "metadata": {},
     "output_type": "execute_result"
    }
   ],
   "source": [
    "limit(2*sp.exp(1/x)/(sp.exp(1/x)+1), x, 0, dir = '+')"
   ]
  },
  {
   "cell_type": "markdown",
   "id": "45cb18ce",
   "metadata": {},
   "source": [
    "$$\n",
    "    \\lim_{x \\to 0^-} \\frac {2e ^\\frac {1}{x} }{e ^\\frac {1}{x} + 1}\n",
    "$$"
   ]
  },
  {
   "cell_type": "code",
   "execution_count": 334,
   "id": "7a8fce00",
   "metadata": {},
   "outputs": [
    {
     "data": {
      "image/png": "[encoded data removed]",
      "text/latex": [
       "$\\displaystyle 0$"
      ],
      "text/plain": [
       "0"
      ]
     },
     "execution_count": 334,
     "metadata": {},
     "output_type": "execute_result"
    }
   ],
   "source": [
    "limit(2*sp.exp(1/x)/(sp.exp(1/x)+1), x, 0, dir = '-')"
   ]
  },
  {
   "cell_type": "markdown",
   "id": "5c8d7fb7",
   "metadata": {},
   "source": [
    "$$\n",
    "    \\lim_{x \\to \\infty} \\frac {cos(x) - 1} {x}\n",
    "$$"
   ]
  },
  {
   "cell_type": "code",
   "execution_count": 325,
   "id": "6d3f759a",
   "metadata": {},
   "outputs": [
    {
     "data": {
      "image/png": "[encoded data removed]",
      "text/latex": [
       "$\\displaystyle 0$"
      ],
      "text/plain": [
       "0"
      ]
     },
     "execution_count": 325,
     "metadata": {},
     "output_type": "execute_result"
    }
   ],
   "source": [
    "limit((cos(x)-1)/x, x, oo)"
   ]
  },
  {
   "cell_type": "markdown",
   "id": "642e48fb",
   "metadata": {},
   "source": [
    "### Sequence and Series"
   ]
  },
  {
   "cell_type": "markdown",
   "id": "235ed7f3",
   "metadata": {},
   "source": []
  },
  {
   "cell_type": "code",
   "execution_count": 335,
   "id": "1b9f0fe0",
   "metadata": {},
   "outputs": [
    {
     "data": {
      "image/png": "[encoded data removed]",
      "text/latex": [
       "$\\displaystyle \\sum_{n=1}^{2} \\frac{6}{n}$"
      ],
      "text/plain": [
       "  2    \n",
       " ____  \n",
       " ╲     \n",
       "  ╲    \n",
       "   ╲  6\n",
       "   ╱  ─\n",
       "  ╱   n\n",
       " ╱     \n",
       " ‾‾‾‾  \n",
       "n = 1  "
      ]
     },
     "execution_count": 335,
     "metadata": {},
     "output_type": "execute_result"
    }
   ],
   "source": [
    "n = Symbol('n')\n",
    "\n",
    "Sum(6/n , (n,1,2))  # summation"
   ]
  },
  {
   "cell_type": "code",
   "execution_count": 336,
   "id": "a132bbcb",
   "metadata": {},
   "outputs": [
    {
     "data": {
      "image/png": "[encoded data removed]",
      "text/latex": [
       "$\\displaystyle \\sum_{n=1}^{\\infty} \\frac{6}{n}$"
      ],
      "text/plain": [
       "  ∞    \n",
       " ____  \n",
       " ╲     \n",
       "  ╲    \n",
       "   ╲  6\n",
       "   ╱  ─\n",
       "  ╱   n\n",
       " ╱     \n",
       " ‾‾‾‾  \n",
       "n = 1  "
      ]
     },
     "execution_count": 336,
     "metadata": {},
     "output_type": "execute_result"
    }
   ],
   "source": [
    "Sum(6/n, (n,1,oo))  # summation (symbolic)"
   ]
  },
  {
   "cell_type": "markdown",
   "id": "46b68ebc",
   "metadata": {},
   "source": [
    "$$\n",
    "    \\sum_{n=1}^{\\infty} \\frac {1}{n^2} = ?\n",
    "$$"
   ]
  },
  {
   "cell_type": "code",
   "execution_count": 337,
   "id": "67913b47",
   "metadata": {},
   "outputs": [
    {
     "data": {
      "image/png": "[encoded data removed]",
      "text/latex": [
       "$\\displaystyle \\frac{\\pi^{2}}{6}$"
      ],
      "text/plain": [
       " 2\n",
       "π \n",
       "──\n",
       "6 "
      ]
     },
     "execution_count": 337,
     "metadata": {},
     "output_type": "execute_result"
    }
   ],
   "source": [
    "Sum(1/n**2, (n,1,oo)).doit()  # returns the value of the Sum"
   ]
  },
  {
   "cell_type": "markdown",
   "id": "2190f2ba",
   "metadata": {},
   "source": [
    "$$\n",
    "    \\sum_{n=1}^{\\infty} \\frac{2^{n+1}}{5^n} = ?\n",
    "$$"
   ]
  },
  {
   "cell_type": "code",
   "execution_count": 338,
   "id": "37ccdead",
   "metadata": {},
   "outputs": [
    {
     "data": {
      "image/png": "[encoded data removed]",
      "text/latex": [
       "$\\displaystyle \\frac{4}{3}$"
      ],
      "text/plain": [
       "4/3"
      ]
     },
     "execution_count": 338,
     "metadata": {},
     "output_type": "execute_result"
    }
   ],
   "source": [
    "Sum(2**(n+1)/5**n, (n,1,oo)).doit()"
   ]
  },
  {
   "cell_type": "markdown",
   "id": "71a219ff",
   "metadata": {},
   "source": [
    "$$\n",
    "    \\sum_{n=1}^{\\infty} \\frac {{\\tan}^{-1}(n)}{n^{1.1}}\n",
    "$$"
   ]
  },
  {
   "cell_type": "code",
   "execution_count": 341,
   "id": "461dfe5f",
   "metadata": {},
   "outputs": [
    {
     "data": {
      "image/png": "[encoded data removed]",
      "text/latex": [
       "$\\displaystyle 7.43110037942868$"
      ],
      "text/plain": [
       "7.43110037942868"
      ]
     },
     "execution_count": 341,
     "metadata": {},
     "output_type": "execute_result"
    }
   ],
   "source": [
    "Sum(atan(n)/n**Rational(11,10), (n,1,1000)).n()"
   ]
  },
  {
   "cell_type": "code",
   "execution_count": 398,
   "id": "0f14c5e5",
   "metadata": {},
   "outputs": [
    {
     "data": {
      "image/png": "[encoded data removed]",
      "text/latex": [
       "$\\displaystyle \\left( \\left[\\begin{matrix}2 x\\\\2 y\\\\2 z\\end{matrix}\\right], \\  \\left[\\begin{matrix}2 & 0 & 0\\\\0 & 2 & 0\\\\0 & 0 & 2\\end{matrix}\\right]\\right)$"
      ],
      "text/plain": [
       "⎛⎡2⋅x⎤  ⎡2  0  0⎤⎞\n",
       "⎜⎢   ⎥  ⎢       ⎥⎟\n",
       "⎜⎢2⋅y⎥, ⎢0  2  0⎥⎟\n",
       "⎜⎢   ⎥  ⎢       ⎥⎟\n",
       "⎝⎣2⋅z⎦  ⎣0  0  2⎦⎠"
      ]
     },
     "execution_count": 398,
     "metadata": {},
     "output_type": "execute_result"
    }
   ],
   "source": [
    "x, y, z= symbols('x y z')\n",
    "f = x**2 + y**2 + z**2\n",
    "grad = diff(f, Matrix([x,y,z]))  # gradient\n",
    "hess = hessian(f, Matrix([x,y,z]))\n",
    "grad, hess"
   ]
  },
  {
   "cell_type": "markdown",
   "id": "4241cb97",
   "metadata": {},
   "source": [
    "_______________________________"
   ]
  },
  {
   "cell_type": "markdown",
   "id": "975caab5",
   "metadata": {},
   "source": [
    "### Indefinite Integration"
   ]
  },
  {
   "cell_type": "code",
   "execution_count": 346,
   "id": "5c7de342",
   "metadata": {},
   "outputs": [
    {
     "name": "stdout",
     "output_type": "stream",
     "text": [
      "2*x**3/3\n"
     ]
    }
   ],
   "source": [
    "# integrating\n",
    "value = integrate('2*x**2')\n",
    "print(value)"
   ]
  },
  {
   "cell_type": "code",
   "execution_count": 347,
   "id": "0f2efd2a",
   "metadata": {},
   "outputs": [
    {
     "data": {
      "image/png": "[encoded data removed]",
      "text/latex": [
       "$\\displaystyle x^{3} + x^{2} + 2 x$"
      ],
      "text/plain": [
       " 3    2      \n",
       "x  + x  + 2⋅x"
      ]
     },
     "execution_count": 347,
     "metadata": {},
     "output_type": "execute_result"
    }
   ],
   "source": [
    "# setting the independent variable\n",
    "x = symbols('x')\n",
    "\n",
    "integration = integrate(2*x + 3*x**2 + 2, x)\n",
    "integration"
   ]
  },
  {
   "cell_type": "code",
   "execution_count": 348,
   "id": "7dbe4f24",
   "metadata": {},
   "outputs": [
    {
     "data": {
      "image/png": "[encoded data removed]",
      "text/latex": [
       "$\\displaystyle e^{x} - \\frac{\\cos{\\left(2 x \\right)}}{2}$"
      ],
      "text/plain": [
       " x   cos(2⋅x)\n",
       "ℯ  - ────────\n",
       "        2    "
      ]
     },
     "execution_count": 348,
     "metadata": {},
     "output_type": "execute_result"
    }
   ],
   "source": [
    "integrate('exp(x) + sin(2*x)',x)"
   ]
  },
  {
   "cell_type": "markdown",
   "id": "449e240e",
   "metadata": {},
   "source": [
    "### Definite Integration"
   ]
  },
  {
   "cell_type": "code",
   "execution_count": 349,
   "id": "78948681",
   "metadata": {},
   "outputs": [
    {
     "data": {
      "image/png": "[encoded data removed]",
      "text/latex": [
       "$\\displaystyle 7$"
      ],
      "text/plain": [
       "7"
      ]
     },
     "execution_count": 349,
     "metadata": {},
     "output_type": "execute_result"
    }
   ],
   "source": [
    "integrate(3*x**2, (x,1,2)) # (independent variable, starting point, ending point)"
   ]
  },
  {
   "cell_type": "markdown",
   "id": "923203f0",
   "metadata": {},
   "source": [
    "### Differentiation"
   ]
  },
  {
   "cell_type": "code",
   "execution_count": 350,
   "id": "987802b8",
   "metadata": {},
   "outputs": [
    {
     "name": "stdout",
     "output_type": "stream",
     "text": [
      "1\n"
     ]
    }
   ],
   "source": [
    "derivative = diff('x',x)\n",
    "print(derivative)"
   ]
  },
  {
   "cell_type": "code",
   "execution_count": 351,
   "id": "1263497f",
   "metadata": {},
   "outputs": [
    {
     "data": {
      "image/png": "[encoded data removed]",
      "text/latex": [
       "$\\displaystyle 8 x$"
      ],
      "text/plain": [
       "8⋅x"
      ]
     },
     "execution_count": 351,
     "metadata": {},
     "output_type": "execute_result"
    }
   ],
   "source": [
    "diff(4*x**2,x)"
   ]
  },
  {
   "cell_type": "code",
   "execution_count": 352,
   "id": "7bd64554",
   "metadata": {},
   "outputs": [
    {
     "data": {
      "image/png": "[encoded data removed]",
      "text/latex": [
       "$\\displaystyle 12 x e^{3 x} + 4 e^{3 x}$"
      ],
      "text/plain": [
       "      3⋅x      3⋅x\n",
       "12⋅x⋅ℯ    + 4⋅ℯ   "
      ]
     },
     "execution_count": 352,
     "metadata": {},
     "output_type": "execute_result"
    }
   ],
   "source": [
    "diff('4*x*exp(3*x)', x)"
   ]
  },
  {
   "cell_type": "code",
   "execution_count": 353,
   "id": "e320e9b7",
   "metadata": {},
   "outputs": [
    {
     "name": "stdout",
     "output_type": "stream",
     "text": [
      "12*x*exp(3*x) + 4*exp(3*x)\n"
     ]
    }
   ],
   "source": [
    "print(_) # printing the last printed value"
   ]
  },
  {
   "cell_type": "code",
   "execution_count": 354,
   "id": "a4fdcda1",
   "metadata": {},
   "outputs": [
    {
     "data": {
      "image/png": "[encoded data removed]",
      "text/latex": [
       "$\\displaystyle 6$"
      ],
      "text/plain": [
       "6"
      ]
     },
     "execution_count": 354,
     "metadata": {},
     "output_type": "execute_result"
    }
   ],
   "source": [
    "# derivative at a point (using subs() -> subsititute method)\n",
    "\n",
    "diff('x**2',x).subs(x,3)"
   ]
  },
  {
   "cell_type": "markdown",
   "id": "5e84cabb",
   "metadata": {},
   "source": [
    "_____________"
   ]
  },
  {
   "cell_type": "code",
   "execution_count": 355,
   "id": "ce80b473",
   "metadata": {},
   "outputs": [
    {
     "data": {
      "image/png": "[encoded data removed]",
      "text/latex": [
       "$\\displaystyle 3 x^{2} + 2 x$"
      ],
      "text/plain": [
       "   2      \n",
       "3⋅x  + 2⋅x"
      ]
     },
     "execution_count": 355,
     "metadata": {},
     "output_type": "execute_result"
    }
   ],
   "source": [
    "f = 3*x**2 + 2*x  # main function\n",
    "f"
   ]
  },
  {
   "cell_type": "code",
   "execution_count": 356,
   "id": "53026f07",
   "metadata": {},
   "outputs": [
    {
     "data": {
      "image/png": "[encoded data removed]",
      "text/latex": [
       "$\\displaystyle 16$"
      ],
      "text/plain": [
       "16"
      ]
     },
     "execution_count": 356,
     "metadata": {},
     "output_type": "execute_result"
    }
   ],
   "source": [
    "f.subs(x, 2)     # functional value at a given point"
   ]
  },
  {
   "cell_type": "code",
   "execution_count": 357,
   "id": "7da6b0f3",
   "metadata": {},
   "outputs": [
    {
     "data": {
      "image/png": "[encoded data removed]",
      "text/latex": [
       "$\\displaystyle 6 x + 2$"
      ],
      "text/plain": [
       "6⋅x + 2"
      ]
     },
     "execution_count": 357,
     "metadata": {},
     "output_type": "execute_result"
    }
   ],
   "source": [
    "d1f = diff(f)    # derivative function\n",
    "d1f"
   ]
  },
  {
   "cell_type": "code",
   "execution_count": 358,
   "id": "025e7abf",
   "metadata": {},
   "outputs": [
    {
     "data": {
      "image/png": "[encoded data removed]",
      "text/latex": [
       "$\\displaystyle 14$"
      ],
      "text/plain": [
       "14"
      ]
     },
     "execution_count": 358,
     "metadata": {},
     "output_type": "execute_result"
    }
   ],
   "source": [
    "d1f.subs(x, 2)   # derivative at a given point"
   ]
  },
  {
   "cell_type": "code",
   "execution_count": 359,
   "id": "eff3d2e8",
   "metadata": {},
   "outputs": [
    {
     "data": {
      "image/png": "[encoded data removed]",
      "text/latex": [
       "$\\displaystyle 3 x^{2} + 2 x$"
      ],
      "text/plain": [
       "   2      \n",
       "3⋅x  + 2⋅x"
      ]
     },
     "execution_count": 359,
     "metadata": {},
     "output_type": "execute_result"
    }
   ],
   "source": [
    "# INTEGRATION\n",
    "\n",
    "int_d1f = integrate(d1f, x)\n",
    "int_d1f"
   ]
  },
  {
   "cell_type": "code",
   "execution_count": 360,
   "id": "5b537bec",
   "metadata": {
    "scrolled": true
   },
   "outputs": [
    {
     "data": {
      "image/png": "[encoded data removed]",
      "text/latex": [
       "$\\displaystyle 11$"
      ],
      "text/plain": [
       "11"
      ]
     },
     "execution_count": 360,
     "metadata": {},
     "output_type": "execute_result"
    }
   ],
   "source": [
    "# definite integration\n",
    "\n",
    "int_d1f = integrate(d1f, (x,1,2))\n",
    "int_d1f"
   ]
  },
  {
   "cell_type": "markdown",
   "id": "31220cff",
   "metadata": {},
   "source": [
    "_______________"
   ]
  },
  {
   "cell_type": "code",
   "execution_count": 361,
   "id": "feb675ae",
   "metadata": {},
   "outputs": [
    {
     "data": {
      "image/png": "[encoded data removed]",
      "text/latex": [
       "$\\displaystyle 3 x^{3} y^{2} + x^{2} + y^{2}$"
      ],
      "text/plain": [
       "   3  2    2    2\n",
       "3⋅x ⋅y  + x  + y "
      ]
     },
     "execution_count": 361,
     "metadata": {},
     "output_type": "execute_result"
    }
   ],
   "source": [
    "# Multi-variable Functions\n",
    "x, y = symbols('x y')\n",
    "f = Function('f')\n",
    "\n",
    "f = x**2 + y**2 + 3*x**3*y**2\n",
    "f"
   ]
  },
  {
   "cell_type": "code",
   "execution_count": 362,
   "id": "8e50a65c",
   "metadata": {},
   "outputs": [
    {
     "data": {
      "image/png": "[encoded data removed]",
      "text/latex": [
       "$\\displaystyle 18 x^{2} y$"
      ],
      "text/plain": [
       "    2  \n",
       "18⋅x ⋅y"
      ]
     },
     "execution_count": 362,
     "metadata": {},
     "output_type": "execute_result"
    }
   ],
   "source": [
    "# partial derivatives\n",
    "diff(f,x)    # partial derivative wrt x\n",
    "f.diff(y)    # partial derivative wrt y\n",
    "f.diff(x,y)  # partial derivative wrt x, then wrt y"
   ]
  },
  {
   "cell_type": "code",
   "execution_count": 363,
   "id": "d69a8587",
   "metadata": {},
   "outputs": [
    {
     "data": {
      "image/png": "[encoded data removed]",
      "text/latex": [
       "$\\displaystyle \\frac{x^{3} y}{3} + y^{3} \\left(\\frac{x^{4}}{4} + \\frac{x}{3}\\right)$"
      ],
      "text/plain": [
       " 3        ⎛ 4    ⎞\n",
       "x ⋅y    3 ⎜x    x⎟\n",
       "──── + y ⋅⎜── + ─⎟\n",
       " 3        ⎝4    3⎠"
      ]
     },
     "execution_count": 363,
     "metadata": {},
     "output_type": "execute_result"
    }
   ],
   "source": [
    "# integrating two variable function\n",
    "integrate(f,x)\n",
    "integrate(f,y)\n",
    "integrate(f,x,y)"
   ]
  },
  {
   "cell_type": "code",
   "execution_count": 364,
   "id": "e6c20a22",
   "metadata": {},
   "outputs": [
    {
     "data": {
      "image/png": "[encoded data removed]",
      "text/latex": [
       "$\\displaystyle \\left[\\begin{matrix}2 & 3\\\\3 & 2\\end{matrix}\\right]$"
      ],
      "text/plain": [
       "⎡2  3⎤\n",
       "⎢    ⎥\n",
       "⎣3  2⎦"
      ]
     },
     "execution_count": 364,
     "metadata": {},
     "output_type": "execute_result"
    }
   ],
   "source": [
    "from sympy import Matrix\n",
    "\n",
    "f = x**2 + y**2 + 3*x*y\n",
    "\n",
    "var = Matrix([x,y])\n",
    "\n",
    "diff(f,var)      # first order partial derivative matrix\n",
    "hessian(f,var)   # hessian atrix -> 2nd order partial derivative matrix"
   ]
  },
  {
   "cell_type": "code",
   "execution_count": 365,
   "id": "25509eca",
   "metadata": {},
   "outputs": [
    {
     "data": {
      "image/png": "[encoded data removed]",
      "text/latex": [
       "$\\displaystyle \\left[\\begin{matrix}8\\\\7\\end{matrix}\\right]$"
      ],
      "text/plain": [
       "⎡8⎤\n",
       "⎢ ⎥\n",
       "⎣7⎦"
      ]
     },
     "execution_count": 365,
     "metadata": {},
     "output_type": "execute_result"
    }
   ],
   "source": [
    "_*Matrix([1, 2])"
   ]
  },
  {
   "cell_type": "code",
   "execution_count": 366,
   "id": "881fe707",
   "metadata": {},
   "outputs": [
    {
     "data": {
      "image/png": "[encoded data removed]",
      "text/latex": [
       "$\\displaystyle \\left[\\begin{matrix}x^{2} + \\sin{\\left(y \\right)}\\\\x\\end{matrix}\\right]$"
      ],
      "text/plain": [
       "⎡ 2         ⎤\n",
       "⎢x  + sin(y)⎥\n",
       "⎢           ⎥\n",
       "⎣     x     ⎦"
      ]
     },
     "execution_count": 366,
     "metadata": {},
     "output_type": "execute_result"
    }
   ],
   "source": [
    "g = Matrix([x**2 + sin(y), x])\n",
    "g"
   ]
  },
  {
   "cell_type": "code",
   "execution_count": 367,
   "id": "6c6dca73",
   "metadata": {
    "scrolled": true
   },
   "outputs": [
    {
     "data": {
      "image/png": "[encoded data removed]",
      "text/latex": [
       "$\\displaystyle \\left[\\begin{matrix}2 x & \\cos{\\left(y \\right)}\\\\1 & 0\\end{matrix}\\right]$"
      ],
      "text/plain": [
       "⎡2⋅x  cos(y)⎤\n",
       "⎢           ⎥\n",
       "⎣ 1     0   ⎦"
      ]
     },
     "execution_count": 367,
     "metadata": {},
     "output_type": "execute_result"
    }
   ],
   "source": [
    "# Jacobian of a Matrix\n",
    "g.jacobian(var)"
   ]
  },
  {
   "cell_type": "code",
   "execution_count": 368,
   "id": "17ee4f37",
   "metadata": {},
   "outputs": [
    {
     "data": {
      "image/png": "[encoded data removed]",
      "text/latex": [
       "$\\displaystyle 2$"
      ],
      "text/plain": [
       "2"
      ]
     },
     "execution_count": 368,
     "metadata": {},
     "output_type": "execute_result"
    }
   ],
   "source": [
    "x, y, lamda = symbols('x y lamda')\n",
    "ind_var = Matrix([x, y])\n",
    "\n",
    "f = Function('f')\n",
    "f = 3*x**2 - 4*x*y + 2*y**2 + 4*x + 6\n",
    "f.subs({x:-2,y:-2})"
   ]
  },
  {
   "cell_type": "raw",
   "id": "7d4596e0",
   "metadata": {},
   "source": [
    "_______________________________________________________________________________________________"
   ]
  },
  {
   "cell_type": "markdown",
   "id": "46e638d6",
   "metadata": {},
   "source": [
    "## ODE *(Ordinary Differential Equation)*"
   ]
  },
  {
   "cell_type": "markdown",
   "id": "b6030c02",
   "metadata": {},
   "source": [
    "### Forming the ODE"
   ]
  },
  {
   "cell_type": "code",
   "execution_count": 369,
   "id": "dc714554",
   "metadata": {},
   "outputs": [
    {
     "data": {
      "image/png": "[encoded data removed]",
      "text/latex": [
       "$\\displaystyle f{\\left(x \\right)}$"
      ],
      "text/plain": [
       "f(x)"
      ]
     },
     "execution_count": 369,
     "metadata": {},
     "output_type": "execute_result"
    }
   ],
   "source": [
    "# creating a function\n",
    "\n",
    "f = Function('f')(x)\n",
    "f"
   ]
  },
  {
   "cell_type": "code",
   "execution_count": 370,
   "id": "e34249a3",
   "metadata": {},
   "outputs": [
    {
     "name": "stdout",
     "output_type": "stream",
     "text": [
      "d       \n",
      "──(f(x))\n",
      "dx      \n"
     ]
    },
    {
     "data": {
      "image/png": "[encoded data removed]",
      "text/latex": [
       "$\\displaystyle \\frac{d^{2}}{d x^{2}} f{\\left(x \\right)}$"
      ],
      "text/plain": [
       "  2      \n",
       " d       \n",
       "───(f(x))\n",
       "  2      \n",
       "dx       "
      ]
     },
     "execution_count": 370,
     "metadata": {},
     "output_type": "execute_result"
    }
   ],
   "source": [
    "# differentiate f(x)\n",
    "pprint(diff(f))\n",
    "diff(f,x)   # single time diff\n",
    "diff(f,x,x) # two times diff\n",
    "f.diff(x,x) # two times diff"
   ]
  },
  {
   "cell_type": "code",
   "execution_count": 371,
   "id": "27d1ac99",
   "metadata": {},
   "outputs": [
    {
     "name": "stdout",
     "output_type": "stream",
     "text": [
      "⌠        \n",
      "⎮ f(x) dx\n",
      "⌡        \n"
     ]
    },
    {
     "data": {
      "image/png": "[encoded data removed]",
      "text/latex": [
       "$\\displaystyle \\iint f{\\left(x \\right)}\\, dx\\, dx$"
      ],
      "text/plain": [
       "⌠ ⌠           \n",
       "⎮ ⎮ f(x) dx dx\n",
       "⌡ ⌡           "
      ]
     },
     "execution_count": 371,
     "metadata": {},
     "output_type": "execute_result"
    }
   ],
   "source": [
    "# integrate a unknown function f(x)\n",
    "\n",
    "pprint(integrate(f))   # single integration\n",
    "f.integrate(x,x)       # double integration"
   ]
  },
  {
   "cell_type": "code",
   "execution_count": 372,
   "id": "883d5a07",
   "metadata": {},
   "outputs": [
    {
     "data": {
      "image/png": "[encoded data removed]",
      "text/latex": [
       "$\\displaystyle x \\frac{d^{2}}{d x^{2}} f{\\left(x \\right)} + \\frac{d}{d x} f{\\left(x \\right)} = 2 x + 3$"
      ],
      "text/plain": [
       "    2                           \n",
       "   d          d                 \n",
       "x⋅───(f(x)) + ──(f(x)) = 2⋅x + 3\n",
       "    2         dx                \n",
       "  dx                            "
      ]
     },
     "execution_count": 372,
     "metadata": {},
     "output_type": "execute_result"
    }
   ],
   "source": [
    "# differential equation\n",
    "\n",
    "diff_eq = Eq( x*f.diff(x,x) + f.diff(), 2*x + 3)\n",
    "diff_eq"
   ]
  },
  {
   "cell_type": "code",
   "execution_count": 373,
   "id": "57ea4d28",
   "metadata": {},
   "outputs": [
    {
     "data": {
      "image/png": "[encoded data removed]",
      "text/latex": [
       "$\\displaystyle x \\frac{d^{2}}{d x^{2}} f{\\left(x \\right)} + \\frac{d}{d x} f{\\left(x \\right)}$"
      ],
      "text/plain": [
       "    2                 \n",
       "   d          d       \n",
       "x⋅───(f(x)) + ──(f(x))\n",
       "    2         dx      \n",
       "  dx                  "
      ]
     },
     "execution_count": 373,
     "metadata": {},
     "output_type": "execute_result"
    }
   ],
   "source": [
    "diff_eq.rhs # getting the RHS\n",
    "diff_eq.lhs # getting the LHS"
   ]
  },
  {
   "cell_type": "markdown",
   "id": "46e0914a",
   "metadata": {},
   "source": [
    "### Solving the ODE"
   ]
  },
  {
   "cell_type": "markdown",
   "id": "582a5a74",
   "metadata": {},
   "source": [
    "We can now use Sympy to solve ODE by using `dsolve()` function"
   ]
  },
  {
   "cell_type": "code",
   "execution_count": 374,
   "id": "8235101e",
   "metadata": {},
   "outputs": [
    {
     "data": {
      "image/png": "[encoded data removed]",
      "text/latex": [
       "$\\displaystyle f{\\left(x \\right)} = C_{1} + C_{2} \\log{\\left(x \\right)} + \\frac{x^{2}}{2} + 3 x$"
      ],
      "text/plain": [
       "                         2      \n",
       "                        x       \n",
       "f(x) = C₁ + C₂⋅log(x) + ── + 3⋅x\n",
       "                        2       "
      ]
     },
     "execution_count": 374,
     "metadata": {},
     "output_type": "execute_result"
    }
   ],
   "source": [
    "sol = dsolve(diff_eq)\n",
    "sol"
   ]
  },
  {
   "cell_type": "code",
   "execution_count": 375,
   "id": "6aa169d0",
   "metadata": {},
   "outputs": [
    {
     "data": {
      "text/plain": [
       "sympy.core.relational.Equality"
      ]
     },
     "execution_count": 375,
     "metadata": {},
     "output_type": "execute_result"
    }
   ],
   "source": [
    "type(sol)   # the type of the solution"
   ]
  },
  {
   "cell_type": "code",
   "execution_count": 376,
   "id": "ede73d70",
   "metadata": {},
   "outputs": [
    {
     "data": {
      "image/png": "[encoded data removed]",
      "text/latex": [
       "$\\displaystyle C_{1} + C_{2} \\log{\\left(x \\right)} + \\frac{x^{2}}{2} + 3 x$"
      ],
      "text/plain": [
       "                  2      \n",
       "                 x       \n",
       "C₁ + C₂⋅log(x) + ── + 3⋅x\n",
       "                 2       "
      ]
     },
     "execution_count": 376,
     "metadata": {},
     "output_type": "execute_result"
    }
   ],
   "source": [
    "sol.rhs     # getting the solution"
   ]
  },
  {
   "cell_type": "code",
   "execution_count": 377,
   "id": "7d4f9cf3",
   "metadata": {},
   "outputs": [],
   "source": [
    "# setting the constants to a variable\n",
    "\n",
    "C2, C1, _ = tuple(sol.free_symbols)"
   ]
  },
  {
   "cell_type": "code",
   "execution_count": 378,
   "id": "3a9dc143",
   "metadata": {},
   "outputs": [
    {
     "data": {
      "image/png": "[encoded data removed]",
      "text/latex": [
       "$\\displaystyle f{\\left(x \\right)} = \\frac{x^{2}}{2} + 3 x + 2 \\log{\\left(x \\right)} + 3$"
      ],
      "text/plain": [
       "        2                     \n",
       "       x                      \n",
       "f(x) = ── + 3⋅x + 2⋅log(x) + 3\n",
       "       2                      "
      ]
     },
     "execution_count": 378,
     "metadata": {},
     "output_type": "execute_result"
    }
   ],
   "source": [
    "sol.subs({C1: 2, C2: 3})   # solution for a particular choice of constants"
   ]
  },
  {
   "cell_type": "code",
   "execution_count": 379,
   "id": "e23530f1",
   "metadata": {},
   "outputs": [
    {
     "data": {
      "image/png": "[encoded data removed]",
      "text/latex": [
       "$\\displaystyle f{\\left(2 \\right)} = 2 \\log{\\left(2 \\right)} + 11$"
      ],
      "text/plain": [
       "f(2) = 2⋅log(2) + 11"
      ]
     },
     "execution_count": 379,
     "metadata": {},
     "output_type": "execute_result"
    }
   ],
   "source": [
    "sol.subs({C1: 2, C2: 3, x: 2})  # finding the value at a given point"
   ]
  },
  {
   "cell_type": "markdown",
   "id": "13ce034a",
   "metadata": {},
   "source": [
    "___________________________________"
   ]
  },
  {
   "cell_type": "markdown",
   "id": "8eb0af73",
   "metadata": {},
   "source": [
    "### *Solving* IVP (Inital Value Problem)"
   ]
  },
  {
   "cell_type": "markdown",
   "id": "0f3c7777",
   "metadata": {},
   "source": [
    "We will now solve the initial value problem by using SymPy\n",
    "$$\n",
    "x \\frac{d^2}{dx^2} f(x) + \\frac{d}{dx} f(x) = 2x + 3\n",
    "$$\n",
    "\n",
    "with the given initial conditions $ f(1) = 0 $ and $ f'(2) = 1 $"
   ]
  },
  {
   "cell_type": "code",
   "execution_count": 380,
   "id": "5d689400",
   "metadata": {},
   "outputs": [
    {
     "data": {
      "image/png": "[encoded data removed]",
      "text/latex": [
       "$\\displaystyle \\left\\{ f{\\left(1 \\right)} : 0, \\  \\left. \\frac{d}{d x} f{\\left(x \\right)} \\right|_{\\substack{ x=2 }} : 1\\right\\}$"
      ],
      "text/plain": [
       "⎧         ⎛d       ⎞│      ⎫\n",
       "⎨f(1): 0, ⎜──(f(x))⎟│   : 1⎬\n",
       "⎩         ⎝dx      ⎠│x=2   ⎭"
      ]
     },
     "execution_count": 380,
     "metadata": {},
     "output_type": "execute_result"
    }
   ],
   "source": [
    "# writing a dictionary with initial conditions\n",
    "initial_c = {f.subs(x,1):0, diff(f).subs(x,2):1}\n",
    "initial_c"
   ]
  },
  {
   "cell_type": "code",
   "execution_count": 381,
   "id": "15e4f20b",
   "metadata": {},
   "outputs": [
    {
     "data": {
      "image/png": "[encoded data removed]",
      "text/latex": [
       "$\\displaystyle \\frac{x^{2}}{2} + 3 x - 8 \\log{\\left(x \\right)} - \\frac{7}{2}$"
      ],
      "text/plain": [
       " 2                     \n",
       "x                     7\n",
       "── + 3⋅x - 8⋅log(x) - ─\n",
       "2                     2"
      ]
     },
     "execution_count": 381,
     "metadata": {},
     "output_type": "execute_result"
    }
   ],
   "source": [
    "# solving the ivp\n",
    "ivp_sol = dsolve(diff_eq, ics = initial_c).rhs\n",
    "ivp_sol"
   ]
  },
  {
   "cell_type": "code",
   "execution_count": 382,
   "id": "3910b294",
   "metadata": {},
   "outputs": [
    {
     "data": {
      "image/png": "[encoded data removed]",
      "text/latex": [
       "$\\displaystyle 1$"
      ],
      "text/plain": [
       "1"
      ]
     },
     "execution_count": 382,
     "metadata": {},
     "output_type": "execute_result"
    }
   ],
   "source": [
    "# checking the initial conditions\n",
    "ivp_sol.subs(x,1)\n",
    "ivp_sol.diff().subs(x,2)"
   ]
  },
  {
   "cell_type": "code",
   "execution_count": 383,
   "id": "7bf8fa12",
   "metadata": {},
   "outputs": [
    {
     "data": {
      "image/png": "[encoded data removed]",
      "text/latex": [
       "$\\displaystyle 2 x + 3$"
      ],
      "text/plain": [
       "2⋅x + 3"
      ]
     },
     "execution_count": 383,
     "metadata": {},
     "output_type": "execute_result"
    }
   ],
   "source": [
    "# checking that the solution satisfies the ODE\n",
    "simplify(x * ivp_sol.diff(x,x) + ivp_sol.diff())"
   ]
  },
  {
   "cell_type": "markdown",
   "id": "a44b5c8c",
   "metadata": {},
   "source": [
    "____________________________________________"
   ]
  },
  {
   "cell_type": "markdown",
   "id": "eeeb6051",
   "metadata": {},
   "source": [
    "## Some Optimization Techniques"
   ]
  },
  {
   "cell_type": "code",
   "execution_count": 384,
   "id": "9c222c71",
   "metadata": {},
   "outputs": [
    {
     "name": "stdout",
     "output_type": "stream",
     "text": [
      "[{x: y}, {x: -1, y: -1}, {x: 1, y: 1}, {x: -sqrt(2)/2, y: sqrt(2)/2}, {x: sqrt(2)/2, y: -sqrt(2)/2}]\n"
     ]
    },
    {
     "data": {
      "text/plain": [
       "False"
      ]
     },
     "execution_count": 384,
     "metadata": {},
     "output_type": "execute_result"
    }
   ],
   "source": [
    "f = (x - y)**2*(x**2 + y**2 - 2)\n",
    "def grad(x,y):\n",
    "    return f.diff(Matrix([x, y]))\n",
    "print(solve(grad(x,y)))\n",
    "\n",
    "# function using lambdify\n",
    "hess = lambdify([a,b], hessian(f, Matrix([x,y])).subs(zip([x,y],[a,b])))\n",
    "Matrix(hess(-1/sqrt(2),1/sqrt(2))).is_positive_semidefinite\n",
    "\n",
    "# function using lambda\n",
    "myfunc = lambda a, b: hessian(f, Matrix([x,y])).subs(zip([x,y],[a,b]))\n",
    "myfunc(sqrt(2),sqrt(2)).is_positive_definite\n"
   ]
  },
  {
   "cell_type": "markdown",
   "id": "7131d1a3",
   "metadata": {},
   "source": [
    "### Vector, Curl"
   ]
  },
  {
   "cell_type": "code",
   "execution_count": 385,
   "id": "6451921b",
   "metadata": {},
   "outputs": [
    {
     "ename": "SyntaxError",
     "evalue": "unmatched ')' (Temp/ipykernel_9808/4225162167.py, line 5)",
     "output_type": "error",
     "traceback": [
      "\u001b[1;36m  File \u001b[1;32m\"C:\\Users\\hp\\AppData\\Local\\Temp/ipykernel_9808/4225162167.py\"\u001b[1;36m, line \u001b[1;32m5\u001b[0m\n\u001b[1;33m    v = (1 )**(1/2) + 2 - 6*R.x**2*R.z) * R.i +  R.x**5*(R.y + c)**(1/2) * R.j - (R.x**5) * R.k\u001b[0m\n\u001b[1;37m                                      ^\u001b[0m\n\u001b[1;31mSyntaxError\u001b[0m\u001b[1;31m:\u001b[0m unmatched ')'\n"
     ]
    }
   ],
   "source": [
    "\n",
    "x, y, z, a, b, c = symbols('x y z a b c')\n",
    "\n",
    "import sympy.vector as vect\n",
    "R = vect.CoordSys3D('R')\n",
    "v = (1 )**(1/2) + 2 - 6*R.x**2*R.z) * R.i +  R.x**5*(R.y + c)**(1/2) * R.j - (R.x**5) * R.k\n",
    "\n",
    "U = R.x*R.y*R.z\n",
    "c = vect.curl(v, R)           # finding curl\n",
    "c\n",
    "# vect.dot(c, v).simplify()\n",
    "# c.simplify()\n",
    "# vect.divergence(v, R)     # finding divergence\n",
    "# vect.gradient(U)"
   ]
  },
  {
   "cell_type": "markdown",
   "id": "93326cdb",
   "metadata": {},
   "source": [
    "### PDE Solution"
   ]
  },
  {
   "cell_type": "code",
   "execution_count": null,
   "id": "fd31e35a",
   "metadata": {},
   "outputs": [],
   "source": [
    "from sympy.solvers.pde import pdsolve\n",
    "from sympy import Function, Eq\n",
    "from sympy.abc import x, y, z\n",
    "f = Function('f')\n",
    "u = f(x, y)\n",
    "p = u.diff(x)\n",
    "q = u.diff(y)\n",
    "\n",
    "# eq = Eq(1 + (2*(ux/u)) + (3*(uy/u)), 0)\n",
    "# eq = Eq(p + y*q, 0)\n",
    "# eq = Eq(- x*p + y*q, 1)\n",
    "eq = Eq((1 + x**2)*p + q, 0)\n",
    "pdsolve(eq)"
   ]
  }
 ],
 "metadata": {
  "interpreter": {
   "hash": "37c139f5431107e422e5affdb96566cc7bc4291c0219fcb5b31015c986fd2290"
  },
  "kernelspec": {
   "display_name": "Python 3 (ipykernel)",
   "language": "python",
   "name": "python3"
  },
  "language_info": {
   "codemirror_mode": {
    "name": "ipython",
    "version": 3
   },
   "file_extension": ".py",
   "mimetype": "text/x-python",
   "name": "python",
   "nbconvert_exporter": "python",
   "pygments_lexer": "ipython3",
   "version": "3.8.1"
  }
 },
 "nbformat": 4,
 "nbformat_minor": 5
}
