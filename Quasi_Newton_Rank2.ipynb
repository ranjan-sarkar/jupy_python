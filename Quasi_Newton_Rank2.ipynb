{
 "cells": [
  {
   "cell_type": "markdown",
   "source": [
    "<h1 style = 'color:#06979e; font-family: Calistro MT; text-align: center'> Quasi-Newton Method : NLP Assignment </h1>\n",
    "<h2 style = 'color:#06979e; font-family: Book Antiqua; text-align: center'> (DFP Method / Rank 2 Correction Method) </h2>"
   ],
   "metadata": {}
  },
  {
   "cell_type": "markdown",
   "source": [
    "<hr>\n",
    "<h3 style = 'color: #8f184a; font-family: Patalino Linotype; text-align: center'> Name - Ranjan Sarkar | Roll - 21MA40022 </h3>\n",
    "<hr>"
   ],
   "metadata": {}
  },
  {
   "cell_type": "markdown",
   "source": [
    "Function: $$f(x,y,z) = 2x^4y^2 + z^2$$\n",
    "\n",
    "Initial Point = $\\begin{pmatrix}1 \\\\ 1 \\\\ 1\\end{pmatrix}$ ,  $B^0 = \\begin{pmatrix}1 & 0 & 1 \\\\ 0 & 1 & 0 \\\\ 0 & 0 & 1\\end{pmatrix}$\n",
    "***"
   ],
   "metadata": {}
  },
  {
   "cell_type": "markdown",
   "source": [
    "Importing Libraries"
   ],
   "metadata": {}
  },
  {
   "cell_type": "code",
   "execution_count": 1,
   "source": [
    "from sympy import *\r\n",
    "import numpy as np\r\n",
    "import pandas as pd"
   ],
   "outputs": [],
   "metadata": {}
  },
  {
   "cell_type": "markdown",
   "source": [
    "Difining the Functions"
   ],
   "metadata": {}
  },
  {
   "cell_type": "code",
   "execution_count": 2,
   "source": [
    "x, y, z, a, d, g = symbols('x y z alpha delta gamma')\n",
    "var = Matrix([x, y, z])    # independent variable in a Matrix form\n",
    "\n",
    "f = lambda X: (2*x**4*y**2 + z**2).subs(zip(var, X))\n",
    "f(var)"
   ],
   "outputs": [
    {
     "output_type": "execute_result",
     "data": {
      "text/plain": [
       "2*x**4*y**2 + z**2"
      ],
      "text/latex": [
       "$\\displaystyle 2 x^{4} y^{2} + z^{2}$"
      ]
     },
     "metadata": {},
     "execution_count": 2
    }
   ],
   "metadata": {}
  },
  {
   "cell_type": "markdown",
   "source": [
    "Gradient Vector"
   ],
   "metadata": {}
  },
  {
   "cell_type": "code",
   "execution_count": 3,
   "source": [
    "grad = lambda X: f(var).diff(var).subs(zip(var, X))\n",
    "grad(var)"
   ],
   "outputs": [
    {
     "output_type": "execute_result",
     "data": {
      "text/plain": [
       "Matrix([\n",
       "[8*x**3*y**2],\n",
       "[   4*x**4*y],\n",
       "[        2*z]])"
      ],
      "text/latex": [
       "$\\displaystyle \\left[\\begin{matrix}8 x^{3} y^{2}\\\\4 x^{4} y\\\\2 z\\end{matrix}\\right]$"
      ]
     },
     "metadata": {},
     "execution_count": 3
    }
   ],
   "metadata": {
    "scrolled": true
   }
  },
  {
   "cell_type": "markdown",
   "source": [
    "Setting the Initial Values"
   ],
   "metadata": {}
  },
  {
   "cell_type": "code",
   "execution_count": 4,
   "source": [
    "# initial values\n",
    "point = Matrix([1, 1, 1])   # initial X = X0\n",
    "B = Matrix(np.eye(3))       # initial Matrix = B0\n",
    "eps = 0.01\n",
    "\n",
    "# In the following arrays we will collect the data in each iteration\n",
    "set_of_point = set_of_grad = set_dir_vects = np.array(point.n(7))\n",
    "set_of_B = np.array([B])\n",
    "set_of_alpha = []\n",
    "f_values = [f(point).n(7)]"
   ],
   "outputs": [],
   "metadata": {}
  },
  {
   "cell_type": "markdown",
   "source": [
    "### Main Calculation"
   ],
   "metadata": {}
  },
  {
   "cell_type": "code",
   "execution_count": 5,
   "source": [
    "while grad(point).norm() >= eps:\n",
    "    \n",
    "    dir_vector = - B * grad(point)\n",
    "    new_point = point + a * dir_vector\n",
    "\n",
    "    region = solve(f(new_point) < f(point))\n",
    "    \n",
    "    # getting the alpha\n",
    "    alpha = 1\n",
    "    while not(alpha in region.as_set()):\n",
    "        alpha -= 0.01\n",
    "\n",
    "    new_point = new_point.subs(a, alpha)\n",
    "\n",
    "    # getting delta, gamma\n",
    "    d = new_point - point\n",
    "    g = grad(new_point) - grad(point)\n",
    "\n",
    "    M = - B * g\n",
    "    new_B = B + (d * d.T) / (d.T * g)[0] + (M * M.T) / (M.T * g)[0]\n",
    "    \n",
    "    # saving the data to the lists\n",
    "    set_of_point  = np.append (set_of_point , np.array(new_point.n(7)), axis = 1)\n",
    "    set_dir_vects = np.append (set_dir_vects, np.array(dir_vector.n(7)), axis = 1)\n",
    "    set_of_alpha  = np.append (set_of_alpha , np.array(alpha))\n",
    "    set_of_grad   = np.append (set_of_grad, np.array((grad(point)).n(7)), axis = 1)\n",
    "    set_of_B      = np.append (set_of_B, np.array([new_B.n(7)]), axis = 0)\n",
    "    f_values      = np.append (f_values, f(new_point))\n",
    "    \n",
    "    B = new_B\n",
    "    point = new_point\n",
    "\n",
    "\n",
    "i = 0\n",
    "print(\"Sequence of 'B' Matrices: \\n\")\n",
    "for B in set_of_B:\n",
    "    print('B{}'.format(i))\n",
    "    display(Matrix(B))\n",
    "    i += 1"
   ],
   "outputs": [
    {
     "output_type": "stream",
     "name": "stdout",
     "text": [
      "Sequence of 'B' Matrices: \n",
      "\n",
      "B0\n"
     ]
    },
    {
     "output_type": "display_data",
     "data": {
      "text/plain": [
       "Matrix([\n",
       "[1.0,   0,   0],\n",
       "[  0, 1.0,   0],\n",
       "[  0,   0, 1.0]])"
      ],
      "text/latex": [
       "$\\displaystyle \\left[\\begin{matrix}1.0 & 0 & 0\\\\0 & 1.0 & 0\\\\0 & 0 & 1.0\\end{matrix}\\right]$"
      ]
     },
     "metadata": {}
    },
    {
     "output_type": "stream",
     "name": "stdout",
     "text": [
      "B1\n"
     ]
    },
    {
     "output_type": "display_data",
     "data": {
      "text/plain": [
       "Matrix([\n",
       "[    0.735691,  -0.4237106, -0.008764223],\n",
       "[  -0.4237106,   0.4235142,  -0.03424993],\n",
       "[-0.008764223, -0.03424993,      1.00368]])"
      ],
      "text/latex": [
       "$\\displaystyle \\left[\\begin{matrix}0.735691 & -0.4237106 & -0.008764223\\\\-0.4237106 & 0.4235142 & -0.03424993\\\\-0.008764223 & -0.03424993 & 1.00368\\end{matrix}\\right]$"
      ]
     },
     "metadata": {}
    },
    {
     "output_type": "stream",
     "name": "stdout",
     "text": [
      "B2\n"
     ]
    },
    {
     "output_type": "display_data",
     "data": {
      "text/plain": [
       "Matrix([\n",
       "[  0.3331857, -0.01850362, -0.05488337],\n",
       "[-0.01850362,  0.02146091, 0.008806703],\n",
       "[-0.05488337, 0.008806703,    1.000332]])"
      ],
      "text/latex": [
       "$\\displaystyle \\left[\\begin{matrix}0.3331857 & -0.01850362 & -0.05488337\\\\-0.01850362 & 0.02146091 & 0.008806703\\\\-0.05488337 & 0.008806703 & 1.000332\\end{matrix}\\right]$"
      ]
     },
     "metadata": {}
    },
    {
     "output_type": "stream",
     "name": "stdout",
     "text": [
      "B3\n"
     ]
    },
    {
     "output_type": "display_data",
     "data": {
      "text/plain": [
       "Matrix([\n",
       "[  0.3393083, -0.02049447,  0.04325614],\n",
       "[-0.02049447,  0.02206998, -0.01506562],\n",
       "[ 0.04325614, -0.01506562,   0.8850883]])"
      ],
      "text/latex": [
       "$\\displaystyle \\left[\\begin{matrix}0.3393083 & -0.02049447 & 0.04325614\\\\-0.02049447 & 0.02206998 & -0.01506562\\\\0.04325614 & -0.01506562 & 0.8850883\\end{matrix}\\right]$"
      ]
     },
     "metadata": {}
    },
    {
     "output_type": "stream",
     "name": "stdout",
     "text": [
      "B4\n"
     ]
    },
    {
     "output_type": "display_data",
     "data": {
      "text/plain": [
       "Matrix([\n",
       "[  0.3383987,  -0.02017609,    0.0245389],\n",
       "[-0.02017609,   0.02195855, -0.008514913],\n",
       "[  0.0245389, -0.008514913,    0.4999923]])"
      ],
      "text/latex": [
       "$\\displaystyle \\left[\\begin{matrix}0.3383987 & -0.02017609 & 0.0245389\\\\-0.02017609 & 0.02195855 & -0.008514913\\\\0.0245389 & -0.008514913 & 0.4999923\\end{matrix}\\right]$"
      ]
     },
     "metadata": {}
    },
    {
     "output_type": "stream",
     "name": "stdout",
     "text": [
      "B5\n"
     ]
    },
    {
     "output_type": "display_data",
     "data": {
      "text/plain": [
       "Matrix([\n",
       "[  0.3383648, -0.02016956,  0.02419275],\n",
       "[-0.02016956,  0.02195811, -0.00850192],\n",
       "[ 0.02419275, -0.00850192,   0.4999933]])"
      ],
      "text/latex": [
       "$\\displaystyle \\left[\\begin{matrix}0.3383648 & -0.02016956 & 0.02419275\\\\-0.02016956 & 0.02195811 & -0.00850192\\\\0.02419275 & -0.00850192 & 0.4999933\\end{matrix}\\right]$"
      ]
     },
     "metadata": {}
    }
   ],
   "metadata": {
    "scrolled": false
   }
  },
  {
   "cell_type": "markdown",
   "source": [
    "### Printing the Data in Table Format"
   ],
   "metadata": {}
  },
  {
   "cell_type": "code",
   "execution_count": 6,
   "source": [
    "data = {'Initial Points': set_of_point.transpose()[:-1].tolist(),\n",
    "        'Gradient Vector': set_of_grad.transpose()[1:].tolist(),\n",
    "        'Quasi-Newton Direction': set_dir_vects.transpose()[1:].tolist(),\n",
    "        'Alpha Value': set_of_alpha.tolist(),\n",
    "        'Functional Value': f_values[:-1].tolist()}\n",
    "\n",
    "df = pd.DataFrame(data)\n",
    "df.columns.names = ['Iteration No.']\n",
    "\n",
    "df = df.style.set_properties(**{'text-align':'center'})\n",
    "df = df.set_caption(\"Quasi Newton Table (DFP Method)\").set_table_styles(\n",
    "    [{'selector': 'caption',\n",
    "      'props': [('color', 'brown'),\n",
    "                ('font-size', '22px'),\n",
    "                ('text-align','center')]}\n",
    "    ])\n",
    "\n",
    "print('Function:')\n",
    "display(f(var))\n",
    "display(df)\n",
    "\n",
    "print('Final Point:')\n",
    "display(new_point)\n",
    "\n",
    "print('Minimum Value:')\n",
    "display(f(new_point))"
   ],
   "outputs": [
    {
     "output_type": "stream",
     "name": "stdout",
     "text": [
      "Function:\n"
     ]
    },
    {
     "output_type": "display_data",
     "data": {
      "text/plain": [
       "2*x**4*y**2 + z**2"
      ],
      "text/latex": [
       "$\\displaystyle 2 x^{4} y^{2} + z^{2}$"
      ]
     },
     "metadata": {}
    },
    {
     "output_type": "display_data",
     "data": {
      "text/plain": [
       "<pandas.io.formats.style.Styler at 0x12b33148>"
      ],
      "text/html": [
       "<style type=\"text/css\">\n",
       "#T_65dcf_ caption {\n",
       "  color: brown;\n",
       "  font-size: 22px;\n",
       "  text-align: center;\n",
       "}\n",
       "#T_65dcf_row0_col0, #T_65dcf_row0_col1, #T_65dcf_row0_col2, #T_65dcf_row0_col3, #T_65dcf_row0_col4, #T_65dcf_row1_col0, #T_65dcf_row1_col1, #T_65dcf_row1_col2, #T_65dcf_row1_col3, #T_65dcf_row1_col4, #T_65dcf_row2_col0, #T_65dcf_row2_col1, #T_65dcf_row2_col2, #T_65dcf_row2_col3, #T_65dcf_row2_col4, #T_65dcf_row3_col0, #T_65dcf_row3_col1, #T_65dcf_row3_col2, #T_65dcf_row3_col3, #T_65dcf_row3_col4, #T_65dcf_row4_col0, #T_65dcf_row4_col1, #T_65dcf_row4_col2, #T_65dcf_row4_col3, #T_65dcf_row4_col4 {\n",
       "  text-align: center;\n",
       "}\n",
       "</style>\n",
       "<table id=\"T_65dcf_\">\n",
       "  <caption>Quasi Newton Table (DFP Method)</caption>\n",
       "  <thead>\n",
       "    <tr>\n",
       "      <th class=\"index_name level0\" >Iteration No.</th>\n",
       "      <th class=\"col_heading level0 col0\" >Initial Points</th>\n",
       "      <th class=\"col_heading level0 col1\" >Gradient Vector</th>\n",
       "      <th class=\"col_heading level0 col2\" >Quasi-Newton Direction</th>\n",
       "      <th class=\"col_heading level0 col3\" >Alpha Value</th>\n",
       "      <th class=\"col_heading level0 col4\" >Functional Value</th>\n",
       "    </tr>\n",
       "  </thead>\n",
       "  <tbody>\n",
       "    <tr>\n",
       "      <th id=\"T_65dcf_level0_row0\" class=\"row_heading level0 row0\" >0</th>\n",
       "      <td id=\"T_65dcf_row0_col0\" class=\"data row0 col0\" >[1.000000, 1.000000, 1.000000]</td>\n",
       "      <td id=\"T_65dcf_row0_col1\" class=\"data row0 col1\" >[8.000000, 4.000000, 2.000000]</td>\n",
       "      <td id=\"T_65dcf_row0_col2\" class=\"data row0 col2\" >[-8.000000, -4.000000, -2.000000]</td>\n",
       "      <td id=\"T_65dcf_row0_col3\" class=\"data row0 col3\" >0.340000</td>\n",
       "      <td id=\"T_65dcf_row0_col4\" class=\"data row0 col4\" >3.000000</td>\n",
       "    </tr>\n",
       "    <tr>\n",
       "      <th id=\"T_65dcf_level0_row1\" class=\"row_heading level0 row1\" >1</th>\n",
       "      <td id=\"T_65dcf_row1_col0\" class=\"data row1 col0\" >[-1.720000, -0.3600000, 0.3200000]</td>\n",
       "      <td id=\"T_65dcf_row1_col1\" class=\"data row1 col1\" >[-5.275703, -12.60307, 0.6400000]</td>\n",
       "      <td id=\"T_65dcf_row1_col2\" class=\"data row1 col2\" >[-1.453157, 3.124128, -1.120247]</td>\n",
       "      <td id=\"T_65dcf_row1_col3\" class=\"data row1 col3\" >0.200000</td>\n",
       "      <td id=\"T_65dcf_row1_col4\" class=\"data row1 col4\" >2.37095224115195</td>\n",
       "    </tr>\n",
       "    <tr>\n",
       "      <th id=\"T_65dcf_level0_row2\" class=\"row_heading level0 row2\" >2</th>\n",
       "      <td id=\"T_65dcf_row2_col0\" class=\"data row2 col0\" >[-2.010631, 0.2648255, 0.09595060]</td>\n",
       "      <td id=\"T_65dcf_row2_col1\" class=\"data row2 col1\" >[-4.560443, 17.31210, 0.1919012]</td>\n",
       "      <td id=\"T_65dcf_row2_col2\" class=\"data row2 col2\" >[1.850343, -0.4576081, -0.5947199]</td>\n",
       "      <td id=\"T_65dcf_row2_col3\" class=\"data row2 col3\" >1.000000</td>\n",
       "      <td id=\"T_65dcf_row2_col4\" class=\"data row2 col4\" >2.30154921534312</td>\n",
       "    </tr>\n",
       "    <tr>\n",
       "      <th id=\"T_65dcf_level0_row3\" class=\"row_heading level0 row3\" >3</th>\n",
       "      <td id=\"T_65dcf_row3_col0\" class=\"data row3 col0\" >[-0.1602884, -0.1927826, -0.4987693]</td>\n",
       "      <td id=\"T_65dcf_row3_col1\" class=\"data row3 col1\" >[-0.001224425, -0.0005090219, -0.9975385]</td>\n",
       "      <td id=\"T_65dcf_row3_col2\" class=\"data row3 col2\" >[0.04355469, -0.01504240, 0.8829550]</td>\n",
       "      <td id=\"T_65dcf_row3_col3\" class=\"data row3 col3\" >1.000000</td>\n",
       "      <td id=\"T_65dcf_row3_col4\" class=\"data row3 col4\" >0.248819849795059</td>\n",
       "    </tr>\n",
       "    <tr>\n",
       "      <th id=\"T_65dcf_level0_row4\" class=\"row_heading level0 row4\" >4</th>\n",
       "      <td id=\"T_65dcf_row4_col0\" class=\"data row4 col0\" >[-0.1167337, -0.2078250, 0.3841858]</td>\n",
       "      <td id=\"T_65dcf_row4_col1\" class=\"data row4 col1\" >[-0.0005496354, -0.0001543631, 0.7683715]</td>\n",
       "      <td id=\"T_65dcf_row4_col2\" class=\"data row4 col2\" >[-0.01867211, 0.006534917, -0.3841677]</td>\n",
       "      <td id=\"T_65dcf_row4_col3\" class=\"data row4 col3\" >1.000000</td>\n",
       "      <td id=\"T_65dcf_row4_col4\" class=\"data row4 col4\" >0.147614735960286</td>\n",
       "    </tr>\n",
       "  </tbody>\n",
       "</table>\n"
      ]
     },
     "metadata": {}
    },
    {
     "output_type": "stream",
     "name": "stdout",
     "text": [
      "Final Point:\n"
     ]
    },
    {
     "output_type": "display_data",
     "data": {
      "text/plain": [
       "Matrix([\n",
       "[ -0.135405857775717],\n",
       "[ -0.201290057226205],\n",
       "[1.80639353022372e-5]])"
      ],
      "text/latex": [
       "$\\displaystyle \\left[\\begin{matrix}-0.135405857775717\\\\-0.201290057226205\\\\1.80639353022372 \\cdot 10^{-5}\\end{matrix}\\right]$"
      ]
     },
     "metadata": {}
    },
    {
     "output_type": "stream",
     "name": "stdout",
     "text": [
      "Minimum Value:\n"
     ]
    },
    {
     "output_type": "display_data",
     "data": {
      "text/plain": [
       "2.72414145579037e-5"
      ],
      "text/latex": [
       "$\\displaystyle 2.72414145579037 \\cdot 10^{-5}$"
      ]
     },
     "metadata": {}
    }
   ],
   "metadata": {
    "scrolled": false
   }
  }
 ],
 "metadata": {
  "kernelspec": {
   "display_name": "Python 3 (ipykernel)",
   "language": "python",
   "name": "python3"
  },
  "language_info": {
   "codemirror_mode": {
    "name": "ipython",
    "version": 3
   },
   "file_extension": ".py",
   "mimetype": "text/x-python",
   "name": "python",
   "nbconvert_exporter": "python",
   "pygments_lexer": "ipython3",
   "version": "3.8.1"
  }
 },
 "nbformat": 4,
 "nbformat_minor": 5
}